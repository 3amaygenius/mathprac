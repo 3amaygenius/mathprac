{
 "cells": [
  {
   "cell_type": "markdown",
   "metadata": {
    "id": "lkDyIfDex7vU"
   },
   "source": [
    "# Библиотека Numpy"
   ]
  },
  {
   "cell_type": "code",
   "execution_count": null,
   "metadata": {
    "colab": {
     "base_uri": "https://localhost:8080/"
    },
    "id": "CUYtBzljx7vh",
    "outputId": "5da8d4bb-2302-4671-bcfa-3623a934fd0c"
   },
   "outputs": [
    {
     "name": "stdout",
     "output_type": "stream",
     "text": [
      "3.8 ms ± 1.01 ms per loop (mean ± std. dev. of 7 runs, 100 loops each)\n"
     ]
    }
   ],
   "source": [
    "L = range(10000)\n",
    "%timeit [i**2 for i in L]"
   ]
  },
  {
   "cell_type": "code",
   "execution_count": null,
   "metadata": {
    "colab": {
     "base_uri": "https://localhost:8080/"
    },
    "id": "E3bRMspJx7vn",
    "outputId": "03dd6ef4-997c-4e20-aa17-96f35a9bb853"
   },
   "outputs": [
    {
     "name": "stdout",
     "output_type": "stream",
     "text": [
      "6.93 µs ± 2.29 µs per loop (mean ± std. dev. of 7 runs, 100000 loops each)\n"
     ]
    }
   ],
   "source": [
    "import numpy as np\n",
    "L = np.arange(10000)\n",
    "%timeit L**2"
   ]
  },
  {
   "cell_type": "markdown",
   "metadata": {
    "id": "sgkEY5emx7vp"
   },
   "source": [
    "### Импорт библиотеки"
   ]
  },
  {
   "cell_type": "code",
   "execution_count": null,
   "metadata": {
    "id": "_mIAYKDqx7vr"
   },
   "outputs": [],
   "source": [
    "#Стандартный способ, которого желательно всюду придерживаться\n",
    "import numpy as np"
   ]
  },
  {
   "cell_type": "code",
   "execution_count": null,
   "metadata": {
    "id": "xjkZwNSNx7vs"
   },
   "outputs": [],
   "source": [
    "#Другие возможные варианты\n",
    "import numpy\n",
    "from numpy import sort, sqrt, mean\n",
    "from numpy import *"
   ]
  },
  {
   "cell_type": "code",
   "execution_count": null,
   "metadata": {
    "id": "ekPRUT2Px7vu"
   },
   "outputs": [],
   "source": [
    "#Так делать не нужно\n",
    "from numpy import max #будет путаница со стаднартной функцией max в питоне\n",
    "import numpy as some_magic_liblary"
   ]
  },
  {
   "cell_type": "markdown",
   "metadata": {
    "id": "I5k495MZx7vw"
   },
   "source": [
    "### Массив ndarray\n",
    "\n",
    "Numpy умеет хранить в памяти массивы **однородных** значений (int, float, строки ограниченной длины, указатели на другие объекты).\n",
    "\n",
    "Объект массив имеет несколько важных параметров:\n",
    "* shape - размерность массива\n",
    "* dtype - тип элементов массива\n",
    "* stride - описание того, как считывать массив"
   ]
  },
  {
   "cell_type": "markdown",
   "metadata": {
    "id": "emwe-M9Mx7vy"
   },
   "source": [
    "Пример одномерного массива:"
   ]
  },
  {
   "cell_type": "code",
   "execution_count": null,
   "metadata": {
    "id": "85vJZJaFx7vz",
    "outputId": "91ae8487-26cc-4f32-e3a8-32b57b751fb3"
   },
   "outputs": [
    {
     "data": {
      "text/plain": [
       "array([0, 1, 2, 3, 4, 5, 6, 7, 8, 9])"
      ]
     },
     "execution_count": 6,
     "metadata": {},
     "output_type": "execute_result"
    }
   ],
   "source": [
    "arr = np.arange(10)\n",
    "arr"
   ]
  },
  {
   "cell_type": "markdown",
   "metadata": {
    "id": "5ZrHimklx7v1"
   },
   "source": [
    "Параметры массива:"
   ]
  },
  {
   "cell_type": "code",
   "execution_count": null,
   "metadata": {
    "id": "By1cCiprx7v2",
    "outputId": "7a0f30b9-8e27-4777-a048-abb4654ffa45"
   },
   "outputs": [
    {
     "name": "stdout",
     "output_type": "stream",
     "text": [
      "(10,)\n",
      "int32\n",
      "(4,)\n"
     ]
    }
   ],
   "source": [
    "print(arr.shape)\n",
    "print(arr.dtype)\n",
    "print(arr.strides)"
   ]
  },
  {
   "cell_type": "markdown",
   "metadata": {
    "id": "A3IVekVIx7v3"
   },
   "source": [
    "Пример двумерного массива:"
   ]
  },
  {
   "cell_type": "code",
   "execution_count": null,
   "metadata": {
    "id": "KGJAlgp4x7v4",
    "outputId": "572218cc-1152-4aee-cf52-09500b0b469c"
   },
   "outputs": [
    {
     "data": {
      "text/plain": [
       "array([[0., 1., 2., 3., 4.],\n",
       "       [5., 6., 7., 8., 9.]])"
      ]
     },
     "execution_count": 3,
     "metadata": {},
     "output_type": "execute_result"
    }
   ],
   "source": [
    "arr_2d = np.arange(10, dtype=float).reshape((2,-1))\n",
    "arr_2d"
   ]
  },
  {
   "cell_type": "markdown",
   "metadata": {
    "id": "H3QRpTD7x7v5"
   },
   "source": [
    "Параметры массива:"
   ]
  },
  {
   "cell_type": "code",
   "execution_count": null,
   "metadata": {
    "id": "hIgkhGcJx7v6",
    "outputId": "082c0cfa-2218-4890-d8f2-3120fd067d9f"
   },
   "outputs": [
    {
     "name": "stdout",
     "output_type": "stream",
     "text": [
      "(2, 5)\n",
      "float64\n",
      "(40, 8)\n"
     ]
    }
   ],
   "source": [
    "print(arr_2d.shape)\n",
    "print(arr_2d.dtype)\n",
    "print(arr_2d.strides)"
   ]
  },
  {
   "cell_type": "markdown",
   "metadata": {
    "id": "im1T5ZZTx7v7"
   },
   "source": [
    "### Способы задания массивов"
   ]
  },
  {
   "cell_type": "code",
   "execution_count": null,
   "metadata": {
    "id": "UrrWnqT6x7v8",
    "outputId": "b7ac5222-7a0e-4d24-b381-7a1973ee0286"
   },
   "outputs": [
    {
     "data": {
      "text/plain": [
       "array([10, 15, 20])"
      ]
     },
     "execution_count": 10,
     "metadata": {},
     "output_type": "execute_result"
    }
   ],
   "source": [
    "# Create an array of evenly-spaced values\n",
    "np.arange(10, 25, 5)"
   ]
  },
  {
   "cell_type": "code",
   "execution_count": null,
   "metadata": {
    "id": "FzYl58NEx7v9",
    "outputId": "29c1ae1a-0904-4afe-ed8d-2aa4d5ed57e1"
   },
   "outputs": [
    {
     "data": {
      "text/plain": [
       "array([0.  , 0.25, 0.5 , 0.75, 1.  , 1.25, 1.5 , 1.75, 2.  ])"
      ]
     },
     "execution_count": 11,
     "metadata": {},
     "output_type": "execute_result"
    }
   ],
   "source": [
    "# Create an array of evenly-spaced values\n",
    "np.linspace(0, 2, 9)"
   ]
  },
  {
   "cell_type": "code",
   "execution_count": null,
   "metadata": {
    "id": "6Ssx8PoDx7v-",
    "outputId": "11d41c14-2ba1-4844-c949-cf871afbd3e1"
   },
   "outputs": [
    {
     "data": {
      "text/plain": [
       "array([[1., 1., 1., 1.],\n",
       "       [1., 1., 1., 1.],\n",
       "       [1., 1., 1., 1.]])"
      ]
     },
     "execution_count": 12,
     "metadata": {},
     "output_type": "execute_result"
    }
   ],
   "source": [
    "# Create an array of ones\n",
    "np.ones((3, 4))"
   ]
  },
  {
   "cell_type": "code",
   "execution_count": null,
   "metadata": {
    "id": "zYojPxKOx7v_",
    "outputId": "b5f48754-ccbe-4f55-9b59-a184f27a330e"
   },
   "outputs": [
    {
     "data": {
      "text/plain": [
       "array([[[0., 0., 0., 0.],\n",
       "        [0., 0., 0., 0.],\n",
       "        [0., 0., 0., 0.]],\n",
       "\n",
       "       [[0., 0., 0., 0.],\n",
       "        [0., 0., 0., 0.],\n",
       "        [0., 0., 0., 0.]]])"
      ]
     },
     "execution_count": 13,
     "metadata": {},
     "output_type": "execute_result"
    }
   ],
   "source": [
    "# Create an array of zeros\n",
    "np.zeros((2, 3, 4))"
   ]
  },
  {
   "cell_type": "code",
   "execution_count": null,
   "metadata": {
    "id": "elKhTSL4x7wA",
    "outputId": "44ac5706-104e-4040-be4a-3256a751245d"
   },
   "outputs": [
    {
     "data": {
      "text/plain": [
       "array([[0.77803716, 0.41756693],\n",
       "       [0.26346067, 0.84054647]])"
      ]
     },
     "execution_count": 14,
     "metadata": {},
     "output_type": "execute_result"
    }
   ],
   "source": [
    "# Create an array with random values\n",
    "np.random.random((2, 2))"
   ]
  },
  {
   "cell_type": "code",
   "execution_count": null,
   "metadata": {
    "id": "UTMxd2y3x7wB",
    "outputId": "178f92c1-9dab-4c43-8c69-ffea6971299f"
   },
   "outputs": [
    {
     "data": {
      "text/plain": [
       "array([[7, 7],\n",
       "       [7, 7]])"
      ]
     },
     "execution_count": 15,
     "metadata": {},
     "output_type": "execute_result"
    }
   ],
   "source": [
    "# Create a full array\n",
    "np.full((2, 2), 7)"
   ]
  },
  {
   "cell_type": "code",
   "execution_count": null,
   "metadata": {
    "id": "Fl51mMIUx7wB",
    "outputId": "9febfafe-e4ad-4faa-9585-b3b2e824409f"
   },
   "outputs": [
    {
     "data": {
      "text/plain": [
       "array([[1, 0, 0],\n",
       "       [0, 2, 0],\n",
       "       [0, 0, 3]])"
      ]
     },
     "execution_count": 16,
     "metadata": {},
     "output_type": "execute_result"
    }
   ],
   "source": [
    "# Create a diagonal matrix\n",
    "np.diag([1, 2, 3])"
   ]
  },
  {
   "cell_type": "markdown",
   "metadata": {
    "id": "rL69eLi1x7wC"
   },
   "source": [
    "### Индексация элементов массива"
   ]
  },
  {
   "cell_type": "code",
   "execution_count": null,
   "metadata": {
    "id": "rT0PaUQqx7wC",
    "outputId": "3dbaaa7a-fcb7-4e0f-8641-3cbab1a909bb"
   },
   "outputs": [
    {
     "name": "stdout",
     "output_type": "stream",
     "text": [
      "0\n",
      "[3 9]\n",
      "[3 5 7 9]\n",
      "[6 7]\n",
      "[0 1 2 3 4 5 6]\n"
     ]
    }
   ],
   "source": [
    "a = np.arange(10)\n",
    "print(a[0])\n",
    "print(a[[3, -1]])\n",
    "print(a[3::2])\n",
    "print(a[6: -2])\n",
    "print(a[:-3])"
   ]
  },
  {
   "cell_type": "markdown",
   "metadata": {
    "id": "GJK4cyrbx7wD"
   },
   "source": [
    "Индексация многомерных массивов:"
   ]
  },
  {
   "cell_type": "code",
   "execution_count": null,
   "metadata": {
    "id": "j8Vc3wY-x7wD",
    "outputId": "c04a0d4d-9cac-4c50-a828-28120492a0c1"
   },
   "outputs": [
    {
     "name": "stdout",
     "output_type": "stream",
     "text": [
      "0\n",
      "[[0 1 0]\n",
      " [0 0 2]]\n"
     ]
    }
   ],
   "source": [
    "a = np.diag(np.arange(3))\n",
    "print(a[1, 2])\n",
    "print(a[1:])"
   ]
  },
  {
   "cell_type": "markdown",
   "metadata": {
    "id": "0n0MZ2_fx7wE"
   },
   "source": [
    "Бывает удобно использовать маски:"
   ]
  },
  {
   "cell_type": "code",
   "execution_count": null,
   "metadata": {
    "id": "c7TYA-hTx7wE",
    "outputId": "0a786b23-3769-4b17-98bf-c59d942b8d49"
   },
   "outputs": [
    {
     "name": "stdout",
     "output_type": "stream",
     "text": [
      "[False False  True False False  True False False  True False]\n"
     ]
    }
   ],
   "source": [
    "a = np.arange(10, 20)\n",
    "mask = a % 3 == 0\n",
    "print(mask)"
   ]
  },
  {
   "cell_type": "markdown",
   "metadata": {
    "id": "QpbrGhcTx7wF"
   },
   "source": [
    "Выбор элементов по маске"
   ]
  },
  {
   "cell_type": "code",
   "execution_count": null,
   "metadata": {
    "id": "41vedm2Bx7wG",
    "outputId": "471a5d8c-088e-41af-930f-fd1ab204f732"
   },
   "outputs": [
    {
     "name": "stdout",
     "output_type": "stream",
     "text": [
      "[12 15 18]\n"
     ]
    }
   ],
   "source": [
    "print(a[mask])"
   ]
  },
  {
   "cell_type": "markdown",
   "metadata": {
    "id": "j4XXXC5yx7wG"
   },
   "source": [
    "Операции над элементами по маске"
   ]
  },
  {
   "cell_type": "code",
   "execution_count": null,
   "metadata": {
    "id": "RSb4NUIAx7wH",
    "outputId": "5a7f9fd0-4282-4569-f283-e767e33d908d"
   },
   "outputs": [
    {
     "name": "stdout",
     "output_type": "stream",
     "text": [
      "[10 11 -1 13 14 -1 16 17 -1 19]\n"
     ]
    }
   ],
   "source": [
    "a[a%3 == 0] = -1\n",
    "print(a)"
   ]
  },
  {
   "cell_type": "markdown",
   "metadata": {
    "id": "gkz3IHR4x7wI"
   },
   "source": [
    "### Арифметические операции выполняются поэлементно"
   ]
  },
  {
   "cell_type": "code",
   "execution_count": null,
   "metadata": {
    "id": "C8TwAfQax7wI",
    "outputId": "a38735af-5736-4220-e052-ff27e3324ee3"
   },
   "outputs": [
    {
     "name": "stdout",
     "output_type": "stream",
     "text": [
      "[2 3 4]\n",
      "[2 4 8]\n",
      "[1 4 9]\n"
     ]
    }
   ],
   "source": [
    "a = np.arange(1, 4)\n",
    "print(a + 1)\n",
    "print(2**a)\n",
    "print(a**2)"
   ]
  },
  {
   "cell_type": "markdown",
   "metadata": {
    "id": "2lM1Q75px7wJ"
   },
   "source": [
    "### Функции над массивами"
   ]
  },
  {
   "cell_type": "code",
   "execution_count": null,
   "metadata": {
    "id": "SnzvvonCx7wJ",
    "outputId": "bad9b42c-5683-4ede-db1a-07de754a733c"
   },
   "outputs": [
    {
     "name": "stdout",
     "output_type": "stream",
     "text": [
      "6 [0.84147098 0.90929743 0.14112001] 2.0 0.816496580927726 1\n"
     ]
    }
   ],
   "source": [
    "a = np.array([1, 2, 3])\n",
    "print(np.sum(a), np.sin(a), np.mean(a), np.std(a), np.min(a))"
   ]
  },
  {
   "cell_type": "markdown",
   "metadata": {
    "id": "auSbmKJOx7wK"
   },
   "source": [
    "Многие функции являются  методами массива:"
   ]
  },
  {
   "cell_type": "code",
   "execution_count": null,
   "metadata": {
    "id": "ZSu2p6dox7wk",
    "outputId": "9f9d7464-c087-4341-8cd0-a84109601bef"
   },
   "outputs": [
    {
     "data": {
      "text/plain": [
       "True"
      ]
     },
     "execution_count": 24,
     "metadata": {},
     "output_type": "execute_result"
    }
   ],
   "source": [
    "a.mean() == np.mean(a)"
   ]
  },
  {
   "cell_type": "markdown",
   "metadata": {
    "id": "-I_ec7ipx7wl"
   },
   "source": [
    "Для многомерных массивов можно управлять вдоль какой размерности применять метод:"
   ]
  },
  {
   "cell_type": "code",
   "execution_count": null,
   "metadata": {
    "id": "ZEojNkHIx7wl",
    "outputId": "7176f622-db4f-4c41-a22c-cd9d5428f811"
   },
   "outputs": [
    {
     "name": "stdout",
     "output_type": "stream",
     "text": [
      "[ 5.5 17.5]\n"
     ]
    }
   ],
   "source": [
    "a=np.arange(24).reshape((2, 3, 4))\n",
    "print(np.mean(a, axis=(-2, -1)))"
   ]
  },
  {
   "cell_type": "markdown",
   "metadata": {
    "id": "t1T0c4I_x7wm"
   },
   "source": [
    "Сортировка элементов:"
   ]
  },
  {
   "cell_type": "code",
   "execution_count": null,
   "metadata": {
    "id": "pBmvD-80x7wm",
    "outputId": "bd74e246-187b-4ed6-dbdb-cf3a9bea680b"
   },
   "outputs": [
    {
     "name": "stdout",
     "output_type": "stream",
     "text": [
      "[-1.19864475 -0.44145599  0.19272541  0.99198881  1.02693535] [4 1 2 3 0]\n"
     ]
    }
   ],
   "source": [
    "a = np.random.randn(5)\n",
    "print(np.sort(a), np.argsort(a))"
   ]
  },
  {
   "cell_type": "markdown",
   "metadata": {
    "id": "HuHEpJsNx7wn"
   },
   "source": [
    "### Сложение массивов"
   ]
  },
  {
   "cell_type": "code",
   "execution_count": null,
   "metadata": {
    "id": "Dpya-msjx7wn",
    "outputId": "e78677b3-f142-4c69-d3bd-15e2c9e7a2ba"
   },
   "outputs": [
    {
     "name": "stdout",
     "output_type": "stream",
     "text": [
      "Array a\n",
      " [[9. 7.]\n",
      " [1. 6.]]\n",
      "Array b\n",
      " [[3. 0.]\n",
      " [3. 6.]]\n",
      "\n",
      "--Concatenate a and b vertically --\n",
      "\n",
      "[[9. 7.]\n",
      " [1. 6.]\n",
      " [3. 0.]\n",
      " [3. 6.]]\n",
      "\n",
      "--Concatenate a and b horizontally--\n",
      "\n",
      "[[9. 7. 3. 0.]\n",
      " [1. 6. 3. 6.]]\n"
     ]
    }
   ],
   "source": [
    "a = np.floor(10 * np.random.rand(2, 2))\n",
    "print('Array a\\n', a)\n",
    "\n",
    "b = np.floor(10 * np.random.rand(2, 2))\n",
    "print('Array b\\n', b)\n",
    "\n",
    "print('\\n--Concatenate a and b vertically --\\n')\n",
    "print(np.vstack((a, b))) # сложение по вертикали\n",
    "print('\\n--Concatenate a and b horizontally--\\n')\n",
    "print(np.hstack((a, b))) # сложение по горизонтали"
   ]
  },
  {
   "cell_type": "markdown",
   "metadata": {
    "id": "Q19D2udOx7wo"
   },
   "source": [
    "### Array broadcasting\n",
    "Схема ниже показывает, как происходит скложение массивов. Если shape у массивов не совпадают, то массив меньшей размерности \"естественным образом\" дополняется до большей размерности."
   ]
  },
  {
   "cell_type": "markdown",
   "metadata": {
    "id": "nwkkeaSqx7wo"
   },
   "source": [
    "<img src=\"http://scipy-lectures.org/_images/numpy_broadcasting.png\" width=\"600\"/>"
   ]
  },
  {
   "cell_type": "code",
   "execution_count": null,
   "metadata": {
    "colab": {
     "base_uri": "https://localhost:8080/"
    },
    "id": "XYLPjvuEx7wp",
    "outputId": "242af5a7-bf9b-4135-bdf2-b69e445b4404"
   },
   "outputs": [
    {
     "name": "stdout",
     "output_type": "stream",
     "text": [
      "(3, 4) (4,)\n",
      "[[1. 2. 3. 4.]\n",
      " [1. 2. 3. 4.]\n",
      " [1. 2. 3. 4.]]\n"
     ]
    }
   ],
   "source": [
    "x = np.ones((3, 4))\n",
    "y = np.arange(4)\n",
    "\n",
    "# Add `x` and `y`. Note that `x` and `y` have different shapes.\n",
    "print(x.shape, y.shape)\n",
    "print(x + y)"
   ]
  },
  {
   "cell_type": "markdown",
   "metadata": {
    "id": "3z54whNpx7wq"
   },
   "source": [
    "Как прибавить массив ко всем столбцам матрицы?"
   ]
  },
  {
   "cell_type": "code",
   "execution_count": null,
   "metadata": {
    "colab": {
     "base_uri": "https://localhost:8080/",
     "height": 216
    },
    "id": "TRgqKpEqx7wq",
    "outputId": "28faa522-bd4a-43fc-da11-af2b9d4a7ae7"
   },
   "outputs": [
    {
     "ename": "ValueError",
     "evalue": "ignored",
     "output_type": "error",
     "traceback": [
      "\u001b[0;31m---------------------------------------------------------------------------\u001b[0m",
      "\u001b[0;31mValueError\u001b[0m                                Traceback (most recent call last)",
      "\u001b[0;32m<ipython-input-7-57ff09942a88>\u001b[0m in \u001b[0;36m<cell line: 4>\u001b[0;34m()\u001b[0m\n\u001b[1;32m      2\u001b[0m \u001b[0my\u001b[0m \u001b[0;34m=\u001b[0m \u001b[0mnp\u001b[0m\u001b[0;34m.\u001b[0m\u001b[0marange\u001b[0m\u001b[0;34m(\u001b[0m\u001b[0;36m3\u001b[0m\u001b[0;34m)\u001b[0m\u001b[0;34m\u001b[0m\u001b[0;34m\u001b[0m\u001b[0m\n\u001b[1;32m      3\u001b[0m \u001b[0;34m\u001b[0m\u001b[0m\n\u001b[0;32m----> 4\u001b[0;31m \u001b[0mprint\u001b[0m\u001b[0;34m(\u001b[0m\u001b[0mx\u001b[0m \u001b[0;34m+\u001b[0m \u001b[0my\u001b[0m\u001b[0;34m)\u001b[0m\u001b[0;34m\u001b[0m\u001b[0;34m\u001b[0m\u001b[0m\n\u001b[0m",
      "\u001b[0;31mValueError\u001b[0m: operands could not be broadcast together with shapes (3,4) (3,) "
     ]
    }
   ],
   "source": [
    "x = np.ones((3, 4))\n",
    "y = np.arange(3)\n",
    "\n",
    "print(x + y)"
   ]
  },
  {
   "cell_type": "code",
   "execution_count": null,
   "metadata": {
    "colab": {
     "base_uri": "https://localhost:8080/"
    },
    "id": "ZvuW3j8dx7wr",
    "outputId": "967c5392-f413-4734-bd59-4449c6e65001"
   },
   "outputs": [
    {
     "name": "stdout",
     "output_type": "stream",
     "text": [
      "[[1. 1. 1. 1.]\n",
      " [2. 2. 2. 2.]\n",
      " [3. 3. 3. 3.]]\n"
     ]
    }
   ],
   "source": [
    "#правильный способ\n",
    "print(x + y.reshape(-1, 1))"
   ]
  },
  {
   "cell_type": "markdown",
   "metadata": {
    "id": "walWU2VAx7wr"
   },
   "source": [
    "### Домашняя работа\n",
    "Задача минимум -- решить без использования циклов for/while. Задача максимум -- решить в одну строку (строка с созданием массива, к которому формулируется задание, не учитывается)."
   ]
  },
  {
   "cell_type": "code",
   "execution_count": 1,
   "metadata": {
    "id": "i42Q40XuHwww"
   },
   "outputs": [],
   "source": [
    "import numpy as np"
   ]
  },
  {
   "cell_type": "markdown",
   "metadata": {
    "id": "x8L3gumKx7ws"
   },
   "source": [
    "1. Создайте массив 10х10, заполненный в центре нулями, а по границе единицами."
   ]
  },
  {
   "cell_type": "code",
   "execution_count": 5,
   "metadata": {
    "id": "8_rt93Hax7ws"
   },
   "outputs": [
    {
     "name": "stdout",
     "output_type": "stream",
     "text": [
      "[[1. 1. 1. 1. 1. 1. 1. 1. 1. 1.]\n",
      " [1. 0. 0. 0. 0. 0. 0. 0. 0. 1.]\n",
      " [1. 0. 0. 0. 0. 0. 0. 0. 0. 1.]\n",
      " [1. 0. 0. 0. 0. 0. 0. 0. 0. 1.]\n",
      " [1. 0. 0. 0. 0. 0. 0. 0. 0. 1.]\n",
      " [1. 0. 0. 0. 0. 0. 0. 0. 0. 1.]\n",
      " [1. 0. 0. 0. 0. 0. 0. 0. 0. 1.]\n",
      " [1. 0. 0. 0. 0. 0. 0. 0. 0. 1.]\n",
      " [1. 0. 0. 0. 0. 0. 0. 0. 0. 1.]\n",
      " [1. 1. 1. 1. 1. 1. 1. 1. 1. 1.]]\n"
     ]
    }
   ],
   "source": [
    "a, b, c = np.ones((10, 1)), np.ones((1, 8)), np.zeros((8, 8))\n",
    "res = np.concatenate((b, c, b), axis=0)\n",
    "res = np.concatenate((a, res, a), axis=1)\n",
    "print(res)"
   ]
  },
  {
   "cell_type": "markdown",
   "metadata": {
    "id": "VpbWeNrnx7wt"
   },
   "source": [
    "2. Создайте массив 8х8, заполненный 0 и 1 в шахматном порядке."
   ]
  },
  {
   "cell_type": "code",
   "execution_count": 9,
   "metadata": {
    "id": "-Tk2mNtbx7wt"
   },
   "outputs": [
    {
     "name": "stdout",
     "output_type": "stream",
     "text": [
      "[[0 1 0 1 0 1 0 1]\n",
      " [1 0 1 0 1 0 1 0]\n",
      " [0 1 0 1 0 1 0 1]\n",
      " [1 0 1 0 1 0 1 0]\n",
      " [0 1 0 1 0 1 0 1]\n",
      " [1 0 1 0 1 0 1 0]\n",
      " [0 1 0 1 0 1 0 1]\n",
      " [1 0 1 0 1 0 1 0]]\n"
     ]
    }
   ],
   "source": [
    "a = 4*[0, 1]\n",
    "b = 4*[1, 0]\n",
    "res = np.array(4*(a+b)).reshape((8, 8))\n",
    "print(res)"
   ]
  },
  {
   "cell_type": "markdown",
   "metadata": {
    "id": "4Whlpc6BG9n0"
   },
   "source": [
    "3. Создайте матрицу 5x5 со значениями 1,2,3,4 под главной диагональю. Остальные значения - нули"
   ]
  },
  {
   "cell_type": "code",
   "execution_count": 38,
   "metadata": {
    "id": "BCZL4GWWG-uJ"
   },
   "outputs": [
    {
     "name": "stdout",
     "output_type": "stream",
     "text": [
      "[[0. 0. 0. 0. 0.]\n",
      " [1. 0. 0. 0. 0.]\n",
      " [0. 2. 0. 0. 0.]\n",
      " [0. 0. 3. 0. 0.]\n",
      " [0. 0. 0. 4. 0.]]\n"
     ]
    }
   ],
   "source": [
    "a = np.diag((1, 2, 3, 4))\n",
    "res = np.concatenate((a, np.zeros((4, 1))), axis=1)\n",
    "res = np.concatenate((np.zeros((1, 5)), res), axis=0)\n",
    "print(res)"
   ]
  },
  {
   "cell_type": "markdown",
   "metadata": {
    "id": "i49wIYjqHinn"
   },
   "source": [
    "4. Создайте случайный массив 5х5 и нормируйте его так, чтобы среднее по каждой строке было в точности ноль."
   ]
  },
  {
   "cell_type": "code",
   "execution_count": 8,
   "metadata": {
    "id": "b8W58GAXHjAO"
   },
   "outputs": [
    {
     "data": {
      "text/plain": [
       "array([-1.11022302e-17, -1.11022302e-16,  0.00000000e+00, -4.44089210e-17,\n",
       "       -1.11022302e-16])"
      ]
     },
     "execution_count": 8,
     "metadata": {},
     "output_type": "execute_result"
    }
   ],
   "source": [
    "a = np.random.rand(5, 5)\n",
    "a = a - np.mean(a, axis=1, keepdims=True)\n",
    "a.mean(axis=1)"
   ]
  },
  {
   "cell_type": "markdown",
   "metadata": {
    "id": "EGXmriUXHGFv"
   },
   "source": [
    "5. Создайте двумерный массив 10x3, заполненный случайными числами от 0 до 1. В каждой строке выберите значение, наиболее близкое к 0.5."
   ]
  },
  {
   "cell_type": "code",
   "execution_count": 19,
   "metadata": {
    "id": "KAC1vOZkHZpW"
   },
   "outputs": [
    {
     "data": {
      "text/plain": [
       "array([0.22317991, 0.70360864, 0.26499109, 0.3491481 , 0.83201911,\n",
       "       0.4558495 , 0.56495626, 0.484691  , 0.38860963, 0.51282821])"
      ]
     },
     "execution_count": 19,
     "metadata": {},
     "output_type": "execute_result"
    }
   ],
   "source": [
    "a = np.random.rand(10, 3)\n",
    "res = a[np.arange(a.shape[0]), np.abs(a - 0.5).argmin(axis=1)]\n",
    "res"
   ]
  },
  {
   "cell_type": "markdown",
   "metadata": {
    "id": "K2PkcwI_HahE"
   },
   "source": [
    "6. Создайте двумерный массив 6x6, заполненный случайными значениями. Сумму по каждой строке поделите на максимальный элемент из столбца с тем же индексом."
   ]
  },
  {
   "cell_type": "code",
   "execution_count": 20,
   "metadata": {
    "id": "17BPHjJSHcC-"
   },
   "outputs": [
    {
     "data": {
      "text/plain": [
       "array([2.71866523, 2.70187237, 3.04023126, 3.65519987, 2.45281578,\n",
       "       4.37537761])"
      ]
     },
     "execution_count": 20,
     "metadata": {},
     "output_type": "execute_result"
    }
   ],
   "source": [
    "a = np.random.rand(6, 6)\n",
    "b = np.max(a, axis=0)\n",
    "res = np.sum(a, axis=1) / b\n",
    "res"
   ]
  },
  {
   "cell_type": "markdown",
   "metadata": {
    "id": "tdFASc6lHcQL"
   },
   "source": [
    "7. На примере массива x = np.array([6, 2, 0, 3, 0, 0, 5, 7, 0]) найдите максимальный элемент в массиве среди элементов, перед которыми стоит ноль."
   ]
  },
  {
   "cell_type": "code",
   "execution_count": 23,
   "metadata": {
    "id": "_lemkW7JHdpo"
   },
   "outputs": [
    {
     "data": {
      "text/plain": [
       "5"
      ]
     },
     "execution_count": 23,
     "metadata": {},
     "output_type": "execute_result"
    }
   ],
   "source": [
    "x = np.array([6, 2, 0, 3, 0, 0, 5, 7, 0])\n",
    "mask = np.where(x[:-1] == 0)[0] + 1\n",
    "x[mask].max()"
   ]
  },
  {
   "cell_type": "markdown",
   "metadata": {
    "id": "sjXlY-CUHdze"
   },
   "source": [
    "8. Пусть заданы два массива x = np.ones(10) и i = np.array([0, 1, 2, 3, 5, 5, 5, 8]). Прибавьте единицу к тем элементам массива x, индексы которых указаны в массиве i. В случае, если некоторый индекс встретился в массиве i несколько раз, прибавьте к соответствующему элементу массива x число вхождений данного индекса в массив i."
   ]
  },
  {
   "cell_type": "code",
   "execution_count": 27,
   "metadata": {
    "id": "W0EbvCpQx7wv"
   },
   "outputs": [
    {
     "data": {
      "text/plain": [
       "array([2., 2., 2., 2., 1., 4., 1., 1., 2., 1.])"
      ]
     },
     "execution_count": 27,
     "metadata": {},
     "output_type": "execute_result"
    }
   ],
   "source": [
    "x = np.ones(10)\n",
    "i = np.array([0, 1, 2, 3, 5, 5, 5, 8])\n",
    "b = np.bincount(i, minlength=x.size)\n",
    "x += b\n",
    "x"
   ]
  },
  {
   "cell_type": "markdown",
   "metadata": {
    "id": "6HsNtCu_x7ww"
   },
   "source": [
    "Задача со звездочкой.\n",
    "\n",
    "Создайте произвольный двумерный массив NxM, N, M > 1. На его основе создайте новый двумерный массив, значения в котором являются средним значением исходного во всевозможных окошках размера 2х2 со сдвигом 1 по вертикали и горизонтали.\n",
    "\n",
    "Пример входа:\n",
    "```\n",
    "array([[ 0,  1,  2,  3,  4,  5,  6,  7,  8,  9],\n",
    "       [10, 11, 12, 13, 14, 15, 16, 17, 18, 19],\n",
    "       [20, 21, 22, 23, 24, 25, 26, 27, 28, 29],\n",
    "       [30, 31, 32, 33, 34, 35, 36, 37, 38, 39]])\n",
    "```\n",
    "\n",
    "Ожидание на выходе:\n",
    "```\n",
    "array([[ 5.5,  6.5,  7.5,  8.5,  9.5, 10.5, 11.5, 12.5, 13.5],\n",
    "       [15.5, 16.5, 17.5, 18.5, 19.5, 20.5, 21.5, 22.5, 23.5],\n",
    "       [25.5, 26.5, 27.5, 28.5, 29.5, 30.5, 31.5, 32.5, 33.5]])\n",
    "```"
   ]
  },
  {
   "cell_type": "code",
   "execution_count": null,
   "metadata": {
    "id": "1AqkJ70xx7ww"
   },
   "outputs": [],
   "source": [
    "#Подсказка: numpy.lib.stride_tricks.sliding_window_view"
   ]
  },
  {
   "cell_type": "markdown",
   "metadata": {
    "id": "NowreXZtx7wx"
   },
   "source": [
    "### Read more\n",
    "\n",
    "[http://scipy-lectures.org/intro/numpy/array_object.html](http://scipy-lectures.org/intro/numpy/array_object.html)\n",
    "\n",
    "[https://www.datacamp.com/community/tutorials/python-numpy-tutorial](https://www.datacamp.com/community/tutorials/python-numpy-tutorial)\n",
    "\n",
    "[https://docs.scipy.org/doc/numpy/user/quickstart.html](https://docs.scipy.org/doc/numpy/user/quickstart.html)\n"
   ]
  }
 ],
 "metadata": {
  "anaconda-cloud": {},
  "colab": {
   "provenance": [],
   "toc_visible": true
  },
  "kernelspec": {
   "display_name": "Python 3 (ipykernel)",
   "language": "python",
   "name": "python3"
  },
  "language_info": {
   "codemirror_mode": {
    "name": "ipython",
    "version": 3
   },
   "file_extension": ".py",
   "mimetype": "text/x-python",
   "name": "python",
   "nbconvert_exporter": "python",
   "pygments_lexer": "ipython3",
   "version": "3.10.4"
  }
 },
 "nbformat": 4,
 "nbformat_minor": 1
}
