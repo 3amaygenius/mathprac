{
 "cells": [
  {
   "cell_type": "markdown",
   "metadata": {
    "id": "gGaMEWqqdiYz"
   },
   "source": [
    "## Генераторы случайных чисел"
   ]
  },
  {
   "cell_type": "markdown",
   "metadata": {
    "id": "KKkc3qORdiY0"
   },
   "source": [
    "![img](https://cdn.ablebits.com/_img-blog/random-generator/random-generator.png)"
   ]
  },
  {
   "cell_type": "markdown",
   "metadata": {
    "id": "IhNeFPrWB79b"
   },
   "source": [
    "Желаемые свойства ГСЧ:\n",
    "* моделирует равномерное распределение на [0, 1]\n",
    "* проходит статистические тесты (какие?)\n",
    "* высокая скорость работы\n",
    "* большой период\n",
    "* может работать на любом вычислительном устройстве\n",
    "* воспроизводимость (а как же случайность?)\n",
    "* криптографическая устойчивость (это не противоречит предыдущим требованиям?)"
   ]
  },
  {
   "cell_type": "markdown",
   "metadata": {
    "id": "Ivc_wiGJB79d"
   },
   "source": [
    "Генератор псевдослучайных чисел - это __алгоритм__ (!!!), который проходит статистические тесты."
   ]
  },
  {
   "cell_type": "markdown",
   "metadata": {
    "id": "WmLz4oEcB79e"
   },
   "source": [
    "### Middle-square algorithm\n",
    "John von Neumann, 1949\n",
    "\n",
    "Идея:\n",
    "1. задаем четырехзначный seed - первое число случайной последовательности\n",
    "2. возводим в квадрат, получаем 8-ми значное число (при необходимости, дополняем нулями)\n",
    "3. берем четырехзначное число из середины - это следующий элемент случайной последовательности\n",
    "4. повторяем 2-3"
   ]
  },
  {
   "cell_type": "code",
   "execution_count": 1,
   "metadata": {
    "id": "QHF5-2ejB79g",
    "outputId": "d377fcd8-7440-4dca-fa84-4bd47ad4c650"
   },
   "outputs": [
    {
     "data": {
      "text/plain": [
       "array([5497, 2170, 7089, 2539, 4465, 9362, 6470, 8609, 1148, 3179, 1060,\n",
       "       1236, 5276, 8361, 9063, 1379, 9016, 2882, 3059, 3574, 7734, 8147,\n",
       "       3736, 9576, 6997, 9580, 7764, 2796, 8176, 8469, 7239, 4031, 2489,\n",
       "       1951, 8064,  280,  784, 6146, 7733, 7992, 8720,  384, 1474, 1726,\n",
       "       9790, 8441, 2504, 2700, 2900, 4100, 8100, 6100, 2100, 4100, 8100,\n",
       "       6100, 2100, 4100, 8100, 6100, 2100, 4100, 8100, 6100, 2100, 4100,\n",
       "       8100, 6100, 2100, 4100, 8100, 6100, 2100, 4100, 8100, 6100, 2100,\n",
       "       4100, 8100, 6100, 2100, 4100, 8100, 6100, 2100, 4100, 8100, 6100,\n",
       "       2100, 4100, 8100, 6100, 2100, 4100, 8100, 6100, 2100, 4100, 8100,\n",
       "       6100, 2100])"
      ]
     },
     "execution_count": 1,
     "metadata": {},
     "output_type": "execute_result"
    }
   ],
   "source": [
    "import numpy as np\n",
    "\n",
    "def midsquare(val, n=4):\n",
    "    return int(str(val**2).zfill(2*n)[n//2:-n//2])\n",
    "\n",
    "seed = 5497\n",
    "seq = [seed]\n",
    "for _ in range(100):\n",
    "    seq.append(midsquare(seq[-1]))\n",
    "np.array(seq)"
   ]
  },
  {
   "cell_type": "markdown",
   "metadata": {
    "id": "Ay4iPTlrB79l"
   },
   "source": [
    "Может быть усложним алгоритм, добавив еще несколько операций?"
   ]
  },
  {
   "cell_type": "markdown",
   "metadata": {
    "id": "jprLureoB79n"
   },
   "source": [
    "```\n",
    "… random numbers should not be\n",
    "generated with a method chosen at\n",
    "random. Some theory should be\n",
    "used.\n",
    "```\n",
    "D. Knuth"
   ]
  },
  {
   "cell_type": "markdown",
   "metadata": {
    "id": "z9EkarifdiY2"
   },
   "source": [
    "### Linear congruential generator (LCG)"
   ]
  },
  {
   "cell_type": "markdown",
   "metadata": {
    "id": "sx9CIKsSdiY2"
   },
   "source": [
    "Linear congruential generator производит последовательность:\n",
    "$$ z_{i+1} = (az_i + c) \\mod m $$\n",
    "\n",
    "Число $z_0$ называется *seed* и обеспечивает воспроизводимость последовательности “случайных” чисел.\n",
    "\n",
    "Напишем функцию, которая реализует LCG (на практике чуть сложнее):"
   ]
  },
  {
   "cell_type": "code",
   "execution_count": 2,
   "metadata": {
    "id": "LqxgMijIdiY3"
   },
   "outputs": [],
   "source": [
    "def rng(m=2**32, a=1103515245, c=12345):\n",
    "    rng.current = (a * rng.current + c) % m\n",
    "    return rng.current / m\n",
    "\n",
    "# setting the seed\n",
    "rng.current = 1"
   ]
  },
  {
   "cell_type": "markdown",
   "metadata": {
    "id": "d0AqPXS7diY5"
   },
   "source": [
    "Выведем несколько первых элементов последовательности:"
   ]
  },
  {
   "cell_type": "code",
   "execution_count": 3,
   "metadata": {
    "colab": {
     "base_uri": "https://localhost:8080/"
    },
    "id": "osNjN2U4diY6",
    "outputId": "53fba779-cb56-4213-9307-b5d540500bec"
   },
   "outputs": [
    {
     "data": {
      "text/plain": [
       "[0.25693503906950355,\n",
       " 0.5878706516232342,\n",
       " 0.15432575810700655,\n",
       " 0.767266943352297,\n",
       " 0.9738139626570046,\n",
       " 0.5858681506942958,\n",
       " 0.8511155843734741,\n",
       " 0.6132153405342251,\n",
       " 0.7473867232911289,\n",
       " 0.06236015981994569]"
      ]
     },
     "execution_count": 3,
     "metadata": {},
     "output_type": "execute_result"
    }
   ],
   "source": [
    "[rng() for _ in range(10)]"
   ]
  },
  {
   "cell_type": "markdown",
   "metadata": {
    "id": "LisfzOscB79t"
   },
   "source": [
    "Как проверить, что последовательность действительно похожа на выборку из равномерного распределения?"
   ]
  },
  {
   "cell_type": "markdown",
   "metadata": {
    "id": "hFVVA2cYB79u"
   },
   "source": [
    "Сделаем выборку побольше"
   ]
  },
  {
   "cell_type": "code",
   "execution_count": 274,
   "metadata": {
    "id": "aeb8sebTB79v"
   },
   "outputs": [],
   "source": [
    "samples = [rng() for _ in range(1000)]"
   ]
  },
  {
   "cell_type": "markdown",
   "metadata": {
    "id": "OBnret8cB79w"
   },
   "source": [
    "В качестве первого шага построим гистограмму"
   ]
  },
  {
   "cell_type": "code",
   "execution_count": 5,
   "metadata": {
    "colab": {
     "base_uri": "https://localhost:8080/",
     "height": 430
    },
    "id": "3UJjdzmYB79w",
    "outputId": "3fbd6bc4-5f8e-4434-a68c-375a8cb8dc59"
   },
   "outputs": [
    {
     "data": {
      "image/png": "[encoded data removed]",
      "text/plain": [
       "<Figure size 432x288 with 1 Axes>"
      ]
     },
     "metadata": {},
     "output_type": "display_data"
    }
   ],
   "source": [
    "import matplotlib.pyplot as plt\n",
    "\n",
    "fig = plt.figure()\n",
    "fig.patch.set_facecolor('xkcd:white')\n",
    "plt.hist(samples, bins=20, density=True)\n",
    "plt.show()"
   ]
  },
  {
   "cell_type": "markdown",
   "metadata": {
    "id": "kdg3Bzl9B79x"
   },
   "source": [
    "На вид гистограммма не противоречит гипотезе о равномерности распределения, но нужны более точные количественные оценки. Их получают с помощью статистических тестов."
   ]
  },
  {
   "cell_type": "markdown",
   "metadata": {
    "id": "TBytIoFgB79y"
   },
   "source": [
    "###Статистические тесты\n",
    "\n",
    "Общая идея статистических тестов. Пусть мы хотим проверить гипотезу о том, что выборка Х принадлежит некоторому конкретному (совершенно конкретному) распределению F. Задача состоит в том, чтобы придумать такую статистику (функцию от выборки) T(X), которая в случае истинности нашей гипотезы будет иметь (при $n\\to\\infty$) наперед известное распределение, например N(0, 1). Посчитаем значение статистики Т=Т(Х) на нашей выборке. Если полученное число Т окажется крайне нетипичным для нормального N(0, 1) распределения, отвергнем гипотезу. Более точно, вычислим $p=P(|\\xi|\\ge|T|)$ для $\\xi\\sim N(0,1)$. Это число $p$ имеет специальное название: $p$-value. Если оно маленькое, например, меньше 0.05, то это повод отвергнуть гипотезу.\n",
    "\n",
    "Далее обсудим конкретные тесты."
   ]
  },
  {
   "cell_type": "markdown",
   "metadata": {
    "id": "MIAo0erGB79z"
   },
   "source": [
    "\n",
    "### Kolmogorov-Smirnov test\n",
    "\n",
    "Проверяем гипотезу, что выборка получена из распределения F.\n",
    "Вычисляем статистику\n",
    "$$T(X) = \\sup_x| F(x) - F_n(x)|,$$\n",
    "где $F_n(x)$ - эмпирическая функция распределения, построенная по выборке Х объема n.\n",
    "По сути, Т - это наибольшее расстояние между двумя графиками (см. картинку ниже).\n",
    "\n",
    "Оказывается, что в случае истинности гипотезы, величина $ \\sqrt{n}T$ имеет (в пределе больших n) особое распределение, которое называется [распределением Колмогорова](https://ru.wikipedia.org/wiki/%D0%A0%D0%B0%D1%81%D0%BF%D1%80%D0%B5%D0%B4%D0%B5%D0%BB%D0%B5%D0%BD%D0%B8%D0%B5_%D0%9A%D0%BE%D0%BB%D0%BC%D0%BE%D0%B3%D0%BE%D1%80%D0%BE%D0%B2%D0%B0).\n",
    "\n",
    "Распределение Колмогорова является табличным, поэтому для любого значения статистики Т мы можем найти $p$-value и увидеть, будет оно маленьким или нет."
   ]
  },
  {
   "cell_type": "markdown",
   "metadata": {
    "id": "vAdU8TLtB79z"
   },
   "source": [
    "![](https://upload.wikimedia.org/wikipedia/commons/thumb/c/cf/KS_Example.png/450px-KS_Example.png)"
   ]
  },
  {
   "cell_type": "markdown",
   "metadata": {
    "id": "ku3Sj0ysB790"
   },
   "source": [
    "На практике все делается одной строкой (проверяет гипотезу о принадлежности выбоки равномерному распределению ```stats.uniform.cdf```):"
   ]
  },
  {
   "cell_type": "code",
   "execution_count": 6,
   "metadata": {
    "id": "EKhVEXhNB790",
    "outputId": "76ffd79f-e0b4-4415-8a88-fc1af658ff60"
   },
   "outputs": [
    {
     "data": {
      "text/plain": [
       "KstestResult(statistic=0.026368738710880302, pvalue=0.48207388563860043)"
      ]
     },
     "execution_count": 6,
     "metadata": {},
     "output_type": "execute_result"
    }
   ],
   "source": [
    "from scipy import stats\n",
    "\n",
    "stats.kstest(samples, stats.uniform.cdf)"
   ]
  },
  {
   "cell_type": "markdown",
   "metadata": {
    "id": "0FPg-wpWB791"
   },
   "source": [
    "Как интерпретировать результаты?\n",
    "\n",
    "statistic=0.02636 - значение статистики (максимальное расстояние между графиками)\n",
    "\n",
    "pvalue=0.48921 - pvalue для этого значения статистики. Видим, что pvalue > 0.05, так что мы решаем НЕ отвергать гипотезу о равномерном распределении.\n",
    "\n",
    "Для сравнения, проверим гипотезу, что выборка порождена нормальным законом:"
   ]
  },
  {
   "cell_type": "code",
   "execution_count": 7,
   "metadata": {
    "id": "QJREPObSB792",
    "outputId": "a5709a54-7e91-4dca-aaa6-6561ca5cf2c9"
   },
   "outputs": [
    {
     "data": {
      "text/plain": [
       "KstestResult(statistic=0.500866322716208, pvalue=1.4724733582412854e-232)"
      ]
     },
     "execution_count": 7,
     "metadata": {},
     "output_type": "execute_result"
    }
   ],
   "source": [
    "stats.kstest(samples, stats.norm.cdf)"
   ]
  },
  {
   "cell_type": "markdown",
   "metadata": {
    "id": "RoAFDtE0B793"
   },
   "source": [
    "Здесь pvalue крайне маленькое, и мы смело отвергаем гипотезу."
   ]
  },
  {
   "cell_type": "markdown",
   "metadata": {
    "id": "ojnDaCBlB794"
   },
   "source": [
    "### Chi-squared test (Pearson's chi-squared test)"
   ]
  },
  {
   "cell_type": "markdown",
   "metadata": {
    "id": "OS6eB7WsB795"
   },
   "source": [
    "Один из самых популярных тестов. Снова проверяем гипотезу, что выборка (объема n) пришла из распределения F. Идея в том, чтобы разбить всю область определения случайной величины на К интервалов и в каждом интервале посчитать, сколько элементов выборки попало в данный интервал и сколько мы бы ожидали там увидеть, если бы выборка имела размер n и порождалась распределением F. Составляем статистику\n",
    "$$\\chi^2_{K-1}=\\sum\\limits_{i=1}^{K}\\frac{(E_i-O_i)^2}{E_i}$$\n",
    "\n",
    "$E_i, O_i$ - ожидаемые (expected) и наблюдаемые (observed) количества элементов выборки в i-ом интервале значений.\n",
    "\n",
    "Рекомендуется выбирать K таким, чтобы $O_i, E_i \\ge 5$.\n",
    "\n",
    "Если гипотеза верна, то статистика критерия имеет (в пределе больших n) распределение хи-квадрат с К-1 степенью свободы."
   ]
  },
  {
   "cell_type": "markdown",
   "metadata": {
    "id": "IvgBVsn1B796"
   },
   "source": [
    "Пример применения теста хи-квадрат:"
   ]
  },
  {
   "cell_type": "code",
   "execution_count": 28,
   "metadata": {
    "id": "SwboWGLkB797",
    "outputId": "70d565a7-1ff3-4e6f-db77-78545e1029f5"
   },
   "outputs": [
    {
     "data": {
      "text/plain": [
       "(array([42, 49, 55, 60, 49, 38, 51, 53, 51, 50, 50, 47, 38, 47, 45, 65, 50,\n",
       "        60, 56, 44], dtype=int64),\n",
       " array([50, 50, 50, 50, 50, 50, 50, 50, 50, 50, 50, 50, 50, 50, 50, 50, 50,\n",
       "        50, 50, 50]),\n",
       " Power_divergenceResult(statistic=18.599999999999998, pvalue=0.48275240319942647))"
      ]
     },
     "execution_count": 28,
     "metadata": {},
     "output_type": "execute_result"
    }
   ],
   "source": [
    "k = 20\n",
    "f_obs = np.histogram(samples, np.linspace(0, 1, k+1))[0]\n",
    "f_exp = np.full(k, len(samples) // k)\n",
    "\n",
    "f_obs, f_exp, stats.chisquare(f_obs, f_exp)"
   ]
  },
  {
   "cell_type": "markdown",
   "metadata": {
    "id": "7FF0U8s8B799"
   },
   "source": [
    "Вывод - наблюдаемое значение статистики не противоречит гипотезе о равномерном распределении."
   ]
  },
  {
   "cell_type": "markdown",
   "metadata": {
    "id": "pyzYguWUB79-"
   },
   "source": [
    "Проблема: последовательности ```sorted(samples)``` и ```samples``` неразличимы для KS и Chi2 тестов. Нужны дополнительные тесты.\n"
   ]
  },
  {
   "cell_type": "markdown",
   "metadata": {
    "id": "PsgdhVoHB79-"
   },
   "source": [
    "### Serial test"
   ]
  },
  {
   "cell_type": "markdown",
   "metadata": {
    "id": "Lw3GHXiDB79_"
   },
   "source": [
    "Идея: разбить последовательность $x_1, x_2, x_3, ..., x_{2n}$ на последовательные серии длины 2: $(x_1, x_2), (x_3, x_4), ..., (x_{2n-1}, x_{2n})$ и посмотреть на каждый элемент как на случайную и независимую точку в 2D пространстве. Далее применить хи-квадрат. Аналогично, можно строить серии длины 3, 4 и т.д."
   ]
  },
  {
   "cell_type": "code",
   "execution_count": 9,
   "metadata": {
    "id": "AaKMOmwwB7-A",
    "outputId": "58dafc55-5ba5-4b1e-f98a-7e8d240804fe"
   },
   "outputs": [
    {
     "data": {
      "image/png": "[encoded data removed]",
      "text/plain": [
       "<Figure size 360x360 with 1 Axes>"
      ]
     },
     "metadata": {},
     "output_type": "display_data"
    }
   ],
   "source": [
    "fig = plt.figure(figsize=(5, 5))\n",
    "fig.patch.set_facecolor('xkcd:white')\n",
    "\n",
    "plt.scatter(samples[::2], samples[1::2])\n",
    "plt.axis('equal')\n",
    "plt.show()"
   ]
  },
  {
   "cell_type": "markdown",
   "metadata": {
    "id": "oMfq-bGPB7-B"
   },
   "source": [
    "### Задача 1*\n",
    "Реализовать serial test и применить к выборке samples"
   ]
  },
  {
   "cell_type": "code",
   "execution_count": 277,
   "metadata": {},
   "outputs": [
    {
     "name": "stdout",
     "output_type": "stream",
     "text": [
      "97.7967967967968 0.5153188079121547\n"
     ]
    }
   ],
   "source": [
    "import numpy as np\n",
    "import matplotlib.pyplot as plt\n",
    "from scipy.stats import chi2\n",
    "\n",
    "def serial_test(samples, num_bins=10):\n",
    "    pairs = np.array([(samples[i], samples[i+1]) for i in range(len(samples) - 1)])\n",
    "    expected_count = (len(samples) - 1) / (num_bins ** 2)\n",
    "    counts, _, _ = np.histogram2d(pairs[:, 0], pairs[:, 1], bins=num_bins, range=[[min(samples), max(samples)], [min(samples), max(samples)]])\n",
    "    chi2_stat = np.sum(((counts - expected_count) ** 2) / expected_count)\n",
    "    k = num_bins ** 2 - 1\n",
    "    p_value = 1 - chi2.cdf(chi2_stat, k)\n",
    "    return chi2_stat, p_value\n",
    "\n",
    "stat, p_value = serial_test(samples)\n",
    "print(stat, p_value)"
   ]
  },
  {
   "cell_type": "markdown",
   "metadata": {
    "id": "vM9_25Q7B7-C"
   },
   "source": [
    "### Permutation test"
   ]
  },
  {
   "cell_type": "markdown",
   "metadata": {
    "id": "yQyhiyxpB7-D"
   },
   "source": [
    "Снова разобъем последовательность $x_1, x_2, x_3, ..., x_{dn}$ на последовательные серии длины d: $(x_1, ..., x_d), (x_{d+1}, x_{2d+d}), ..., (x_{nd-d}, x_{nd})$. Серия из d элементов может быть упорядочена d! способами и каждый способ упорядочивания равновероятен. Отсюда идея теста - посчитать, сколько раз каждый порядок встречается среди n серий и применить хи-квадрат тест."
   ]
  },
  {
   "cell_type": "markdown",
   "metadata": {
    "id": "A_cfF1XoB7-E"
   },
   "source": [
    "### Задача 2*\n",
    "Реализовать permutation test и применить к выборке samples"
   ]
  },
  {
   "cell_type": "code",
   "execution_count": null,
   "metadata": {
    "id": "m-bWyqbNB7-E"
   },
   "outputs": [],
   "source": [
    "#code here"
   ]
  },
  {
   "cell_type": "markdown",
   "metadata": {
    "id": "xZXUiK0idiY9"
   },
   "source": [
    "Выбор параметров $m$, $a$ и $c$ существенно влияет на качество последовательности. Если параметры выбрать неудачно, это может привести к неожиданным последствиям:"
   ]
  },
  {
   "cell_type": "code",
   "execution_count": 278,
   "metadata": {
    "id": "9DWifIyadiY9",
    "outputId": "d08ab4b5-e5ac-45f2-9c26-82a8b4b88c6d"
   },
   "outputs": [
    {
     "name": "stdout",
     "output_type": "stream",
     "text": [
      "This sequence looks as random:\n"
     ]
    },
    {
     "data": {
      "text/plain": [
       "[3.051897510886192e-05,\n",
       " 0.00018310965970158577,\n",
       " 0.0008239871822297573,\n",
       " 0.003295936156064272,\n",
       " 0.012359732296317816,\n",
       " 0.04449496837332845,\n",
       " 0.15573221957311034,\n",
       " 0.533938602078706,\n",
       " 0.8020416363142431,\n",
       " 0.006802399177104235]"
      ]
     },
     "execution_count": 278,
     "metadata": {},
     "output_type": "execute_result"
    }
   ],
   "source": [
    "def rng_bad(m=2**31, a=65539, c=0):\n",
    "    rng_bad.current = (a * rng_bad.current + c) % m\n",
    "    return rng_bad.current / m\n",
    "rng_bad.current = 1\n",
    "\n",
    "random = [rng_bad() for _ in range(30000)]\n",
    "print(\"This sequence looks as random:\")\n",
    "random[:10]"
   ]
  },
  {
   "cell_type": "markdown",
   "metadata": {
    "id": "ClnjUt9ddiY_"
   },
   "source": [
    "Гистограмма распределения похожа на равномерное:"
   ]
  },
  {
   "cell_type": "code",
   "execution_count": 279,
   "metadata": {
    "id": "wBlZwI6ndiZA",
    "outputId": "c35d5abd-d540-4778-a9e6-169e0439fa1a"
   },
   "outputs": [
    {
     "data": {
      "image/png": "[encoded data removed]",
      "text/plain": [
       "<Figure size 432x288 with 1 Axes>"
      ]
     },
     "metadata": {},
     "output_type": "display_data"
    }
   ],
   "source": [
    "import matplotlib.pyplot as plt\n",
    "fig = plt.figure()\n",
    "fig.patch.set_facecolor('xkcd:white')\n",
    "\n",
    "plt.hist(random, 20, density=True)\n",
    "plt.show()"
   ]
  },
  {
   "cell_type": "markdown",
   "metadata": {
    "id": "jK0-W5ZbdiZC"
   },
   "source": [
    "Однако, тест серий показывает, что точки располагаются на гиперплоскостях, что плохо согласуется с представлением о случайности:"
   ]
  },
  {
   "cell_type": "code",
   "execution_count": 280,
   "metadata": {
    "id": "id0Wt3W1diZC",
    "outputId": "1df26491-1137-473f-d2e3-955220b4ed07"
   },
   "outputs": [
    {
     "data": {
      "application/javascript": [
       "/* Put everything inside the global mpl namespace */\n",
       "/* global mpl */\n",
       "window.mpl = {};\n",
       "\n",
       "mpl.get_websocket_type = function () {\n",
       "    if (typeof WebSocket !== 'undefined') {\n",
       "        return WebSocket;\n",
       "    } else if (typeof MozWebSocket !== 'undefined') {\n",
       "        return MozWebSocket;\n",
       "    } else {\n",
       "        alert(\n",
       "            'Your browser does not have WebSocket support. ' +\n",
       "                'Please try Chrome, Safari or Firefox ≥ 6. ' +\n",
       "                'Firefox 4 and 5 are also supported but you ' +\n",
       "                'have to enable WebSockets in about:config.'\n",
       "        );\n",
       "    }\n",
       "};\n",
       "\n",
       "mpl.figure = function (figure_id, websocket, ondownload, parent_element) {\n",
       "    this.id = figure_id;\n",
       "\n",
       "    this.ws = websocket;\n",
       "\n",
       "    this.supports_binary = this.ws.binaryType !== undefined;\n",
       "\n",
       "    if (!this.supports_binary) {\n",
       "        var warnings = document.getElementById('mpl-warnings');\n",
       "        if (warnings) {\n",
       "            warnings.style.display = 'block';\n",
       "            warnings.textContent =\n",
       "                'This browser does not support binary websocket messages. ' +\n",
       "                'Performance may be slow.';\n",
       "        }\n",
       "    }\n",
       "\n",
       "    this.imageObj = new Image();\n",
       "\n",
       "    this.context = undefined;\n",
       "    this.message = undefined;\n",
       "    this.canvas = undefined;\n",
       "    this.rubberband_canvas = undefined;\n",
       "    this.rubberband_context = undefined;\n",
       "    this.format_dropdown = undefined;\n",
       "\n",
       "    this.image_mode = 'full';\n",
       "\n",
       "    this.root = document.createElement('div');\n",
       "    this.root.setAttribute('style', 'display: inline-block');\n",
       "    this._root_extra_style(this.root);\n",
       "\n",
       "    parent_element.appendChild(this.root);\n",
       "\n",
       "    this._init_header(this);\n",
       "    this._init_canvas(this);\n",
       "    this._init_toolbar(this);\n",
       "\n",
       "    var fig = this;\n",
       "\n",
       "    this.waiting = false;\n",
       "\n",
       "    this.ws.onopen = function () {\n",
       "        fig.send_message('supports_binary', { value: fig.supports_binary });\n",
       "        fig.send_message('send_image_mode', {});\n",
       "        if (fig.ratio !== 1) {\n",
       "            fig.send_message('set_device_pixel_ratio', {\n",
       "                device_pixel_ratio: fig.ratio,\n",
       "            });\n",
       "        }\n",
       "        fig.send_message('refresh', {});\n",
       "    };\n",
       "\n",
       "    this.imageObj.onload = function () {\n",
       "        if (fig.image_mode === 'full') {\n",
       "            // Full images could contain transparency (where diff images\n",
       "            // almost always do), so we need to clear the canvas so that\n",
       "            // there is no ghosting.\n",
       "            fig.context.clearRect(0, 0, fig.canvas.width, fig.canvas.height);\n",
       "        }\n",
       "        fig.context.drawImage(fig.imageObj, 0, 0);\n",
       "    };\n",
       "\n",
       "    this.imageObj.onunload = function () {\n",
       "        fig.ws.close();\n",
       "    };\n",
       "\n",
       "    this.ws.onmessage = this._make_on_message_function(this);\n",
       "\n",
       "    this.ondownload = ondownload;\n",
       "};\n",
       "\n",
       "mpl.figure.prototype._init_header = function () {\n",
       "    var titlebar = document.createElement('div');\n",
       "    titlebar.classList =\n",
       "        'ui-dialog-titlebar ui-widget-header ui-corner-all ui-helper-clearfix';\n",
       "    var titletext = document.createElement('div');\n",
       "    titletext.classList = 'ui-dialog-title';\n",
       "    titletext.setAttribute(\n",
       "        'style',\n",
       "        'width: 100%; text-align: center; padding: 3px;'\n",
       "    );\n",
       "    titlebar.appendChild(titletext);\n",
       "    this.root.appendChild(titlebar);\n",
       "    this.header = titletext;\n",
       "};\n",
       "\n",
       "mpl.figure.prototype._canvas_extra_style = function (_canvas_div) {};\n",
       "\n",
       "mpl.figure.prototype._root_extra_style = function (_canvas_div) {};\n",
       "\n",
       "mpl.figure.prototype._init_canvas = function () {\n",
       "    var fig = this;\n",
       "\n",
       "    var canvas_div = (this.canvas_div = document.createElement('div'));\n",
       "    canvas_div.setAttribute(\n",
       "        'style',\n",
       "        'border: 1px solid #ddd;' +\n",
       "            'box-sizing: content-box;' +\n",
       "            'clear: both;' +\n",
       "            'min-height: 1px;' +\n",
       "            'min-width: 1px;' +\n",
       "            'outline: 0;' +\n",
       "            'overflow: hidden;' +\n",
       "            'position: relative;' +\n",
       "            'resize: both;'\n",
       "    );\n",
       "\n",
       "    function on_keyboard_event_closure(name) {\n",
       "        return function (event) {\n",
       "            return fig.key_event(event, name);\n",
       "        };\n",
       "    }\n",
       "\n",
       "    canvas_div.addEventListener(\n",
       "        'keydown',\n",
       "        on_keyboard_event_closure('key_press')\n",
       "    );\n",
       "    canvas_div.addEventListener(\n",
       "        'keyup',\n",
       "        on_keyboard_event_closure('key_release')\n",
       "    );\n",
       "\n",
       "    this._canvas_extra_style(canvas_div);\n",
       "    this.root.appendChild(canvas_div);\n",
       "\n",
       "    var canvas = (this.canvas = document.createElement('canvas'));\n",
       "    canvas.classList.add('mpl-canvas');\n",
       "    canvas.setAttribute('style', 'box-sizing: content-box;');\n",
       "\n",
       "    this.context = canvas.getContext('2d');\n",
       "\n",
       "    var backingStore =\n",
       "        this.context.backingStorePixelRatio ||\n",
       "        this.context.webkitBackingStorePixelRatio ||\n",
       "        this.context.mozBackingStorePixelRatio ||\n",
       "        this.context.msBackingStorePixelRatio ||\n",
       "        this.context.oBackingStorePixelRatio ||\n",
       "        this.context.backingStorePixelRatio ||\n",
       "        1;\n",
       "\n",
       "    this.ratio = (window.devicePixelRatio || 1) / backingStore;\n",
       "\n",
       "    var rubberband_canvas = (this.rubberband_canvas = document.createElement(\n",
       "        'canvas'\n",
       "    ));\n",
       "    rubberband_canvas.setAttribute(\n",
       "        'style',\n",
       "        'box-sizing: content-box; position: absolute; left: 0; top: 0; z-index: 1;'\n",
       "    );\n",
       "\n",
       "    // Apply a ponyfill if ResizeObserver is not implemented by browser.\n",
       "    if (this.ResizeObserver === undefined) {\n",
       "        if (window.ResizeObserver !== undefined) {\n",
       "            this.ResizeObserver = window.ResizeObserver;\n",
       "        } else {\n",
       "            var obs = _JSXTOOLS_RESIZE_OBSERVER({});\n",
       "            this.ResizeObserver = obs.ResizeObserver;\n",
       "        }\n",
       "    }\n",
       "\n",
       "    this.resizeObserverInstance = new this.ResizeObserver(function (entries) {\n",
       "        var nentries = entries.length;\n",
       "        for (var i = 0; i < nentries; i++) {\n",
       "            var entry = entries[i];\n",
       "            var width, height;\n",
       "            if (entry.contentBoxSize) {\n",
       "                if (entry.contentBoxSize instanceof Array) {\n",
       "                    // Chrome 84 implements new version of spec.\n",
       "                    width = entry.contentBoxSize[0].inlineSize;\n",
       "                    height = entry.contentBoxSize[0].blockSize;\n",
       "                } else {\n",
       "                    // Firefox implements old version of spec.\n",
       "                    width = entry.contentBoxSize.inlineSize;\n",
       "                    height = entry.contentBoxSize.blockSize;\n",
       "                }\n",
       "            } else {\n",
       "                // Chrome <84 implements even older version of spec.\n",
       "                width = entry.contentRect.width;\n",
       "                height = entry.contentRect.height;\n",
       "            }\n",
       "\n",
       "            // Keep the size of the canvas and rubber band canvas in sync with\n",
       "            // the canvas container.\n",
       "            if (entry.devicePixelContentBoxSize) {\n",
       "                // Chrome 84 implements new version of spec.\n",
       "                canvas.setAttribute(\n",
       "                    'width',\n",
       "                    entry.devicePixelContentBoxSize[0].inlineSize\n",
       "                );\n",
       "                canvas.setAttribute(\n",
       "                    'height',\n",
       "                    entry.devicePixelContentBoxSize[0].blockSize\n",
       "                );\n",
       "            } else {\n",
       "                canvas.setAttribute('width', width * fig.ratio);\n",
       "                canvas.setAttribute('height', height * fig.ratio);\n",
       "            }\n",
       "            canvas.setAttribute(\n",
       "                'style',\n",
       "                'width: ' + width + 'px; height: ' + height + 'px;'\n",
       "            );\n",
       "\n",
       "            rubberband_canvas.setAttribute('width', width);\n",
       "            rubberband_canvas.setAttribute('height', height);\n",
       "\n",
       "            // And update the size in Python. We ignore the initial 0/0 size\n",
       "            // that occurs as the element is placed into the DOM, which should\n",
       "            // otherwise not happen due to the minimum size styling.\n",
       "            if (fig.ws.readyState == 1 && width != 0 && height != 0) {\n",
       "                fig.request_resize(width, height);\n",
       "            }\n",
       "        }\n",
       "    });\n",
       "    this.resizeObserverInstance.observe(canvas_div);\n",
       "\n",
       "    function on_mouse_event_closure(name) {\n",
       "        return function (event) {\n",
       "            return fig.mouse_event(event, name);\n",
       "        };\n",
       "    }\n",
       "\n",
       "    rubberband_canvas.addEventListener(\n",
       "        'mousedown',\n",
       "        on_mouse_event_closure('button_press')\n",
       "    );\n",
       "    rubberband_canvas.addEventListener(\n",
       "        'mouseup',\n",
       "        on_mouse_event_closure('button_release')\n",
       "    );\n",
       "    rubberband_canvas.addEventListener(\n",
       "        'dblclick',\n",
       "        on_mouse_event_closure('dblclick')\n",
       "    );\n",
       "    // Throttle sequential mouse events to 1 every 20ms.\n",
       "    rubberband_canvas.addEventListener(\n",
       "        'mousemove',\n",
       "        on_mouse_event_closure('motion_notify')\n",
       "    );\n",
       "\n",
       "    rubberband_canvas.addEventListener(\n",
       "        'mouseenter',\n",
       "        on_mouse_event_closure('figure_enter')\n",
       "    );\n",
       "    rubberband_canvas.addEventListener(\n",
       "        'mouseleave',\n",
       "        on_mouse_event_closure('figure_leave')\n",
       "    );\n",
       "\n",
       "    canvas_div.addEventListener('wheel', function (event) {\n",
       "        if (event.deltaY < 0) {\n",
       "            event.step = 1;\n",
       "        } else {\n",
       "            event.step = -1;\n",
       "        }\n",
       "        on_mouse_event_closure('scroll')(event);\n",
       "    });\n",
       "\n",
       "    canvas_div.appendChild(canvas);\n",
       "    canvas_div.appendChild(rubberband_canvas);\n",
       "\n",
       "    this.rubberband_context = rubberband_canvas.getContext('2d');\n",
       "    this.rubberband_context.strokeStyle = '#000000';\n",
       "\n",
       "    this._resize_canvas = function (width, height, forward) {\n",
       "        if (forward) {\n",
       "            canvas_div.style.width = width + 'px';\n",
       "            canvas_div.style.height = height + 'px';\n",
       "        }\n",
       "    };\n",
       "\n",
       "    // Disable right mouse context menu.\n",
       "    this.rubberband_canvas.addEventListener('contextmenu', function (_e) {\n",
       "        event.preventDefault();\n",
       "        return false;\n",
       "    });\n",
       "\n",
       "    function set_focus() {\n",
       "        canvas.focus();\n",
       "        canvas_div.focus();\n",
       "    }\n",
       "\n",
       "    window.setTimeout(set_focus, 100);\n",
       "};\n",
       "\n",
       "mpl.figure.prototype._init_toolbar = function () {\n",
       "    var fig = this;\n",
       "\n",
       "    var toolbar = document.createElement('div');\n",
       "    toolbar.classList = 'mpl-toolbar';\n",
       "    this.root.appendChild(toolbar);\n",
       "\n",
       "    function on_click_closure(name) {\n",
       "        return function (_event) {\n",
       "            return fig.toolbar_button_onclick(name);\n",
       "        };\n",
       "    }\n",
       "\n",
       "    function on_mouseover_closure(tooltip) {\n",
       "        return function (event) {\n",
       "            if (!event.currentTarget.disabled) {\n",
       "                return fig.toolbar_button_onmouseover(tooltip);\n",
       "            }\n",
       "        };\n",
       "    }\n",
       "\n",
       "    fig.buttons = {};\n",
       "    var buttonGroup = document.createElement('div');\n",
       "    buttonGroup.classList = 'mpl-button-group';\n",
       "    for (var toolbar_ind in mpl.toolbar_items) {\n",
       "        var name = mpl.toolbar_items[toolbar_ind][0];\n",
       "        var tooltip = mpl.toolbar_items[toolbar_ind][1];\n",
       "        var image = mpl.toolbar_items[toolbar_ind][2];\n",
       "        var method_name = mpl.toolbar_items[toolbar_ind][3];\n",
       "\n",
       "        if (!name) {\n",
       "            /* Instead of a spacer, we start a new button group. */\n",
       "            if (buttonGroup.hasChildNodes()) {\n",
       "                toolbar.appendChild(buttonGroup);\n",
       "            }\n",
       "            buttonGroup = document.createElement('div');\n",
       "            buttonGroup.classList = 'mpl-button-group';\n",
       "            continue;\n",
       "        }\n",
       "\n",
       "        var button = (fig.buttons[name] = document.createElement('button'));\n",
       "        button.classList = 'mpl-widget';\n",
       "        button.setAttribute('role', 'button');\n",
       "        button.setAttribute('aria-disabled', 'false');\n",
       "        button.addEventListener('click', on_click_closure(method_name));\n",
       "        button.addEventListener('mouseover', on_mouseover_closure(tooltip));\n",
       "\n",
       "        var icon_img = document.createElement('img');\n",
       "        icon_img.src = '_images/' + image + '.png';\n",
       "        icon_img.srcset = '_images/' + image + '_large.png 2x';\n",
       "        icon_img.alt = tooltip;\n",
       "        button.appendChild(icon_img);\n",
       "\n",
       "        buttonGroup.appendChild(button);\n",
       "    }\n",
       "\n",
       "    if (buttonGroup.hasChildNodes()) {\n",
       "        toolbar.appendChild(buttonGroup);\n",
       "    }\n",
       "\n",
       "    var fmt_picker = document.createElement('select');\n",
       "    fmt_picker.classList = 'mpl-widget';\n",
       "    toolbar.appendChild(fmt_picker);\n",
       "    this.format_dropdown = fmt_picker;\n",
       "\n",
       "    for (var ind in mpl.extensions) {\n",
       "        var fmt = mpl.extensions[ind];\n",
       "        var option = document.createElement('option');\n",
       "        option.selected = fmt === mpl.default_extension;\n",
       "        option.innerHTML = fmt;\n",
       "        fmt_picker.appendChild(option);\n",
       "    }\n",
       "\n",
       "    var status_bar = document.createElement('span');\n",
       "    status_bar.classList = 'mpl-message';\n",
       "    toolbar.appendChild(status_bar);\n",
       "    this.message = status_bar;\n",
       "};\n",
       "\n",
       "mpl.figure.prototype.request_resize = function (x_pixels, y_pixels) {\n",
       "    // Request matplotlib to resize the figure. Matplotlib will then trigger a resize in the client,\n",
       "    // which will in turn request a refresh of the image.\n",
       "    this.send_message('resize', { width: x_pixels, height: y_pixels });\n",
       "};\n",
       "\n",
       "mpl.figure.prototype.send_message = function (type, properties) {\n",
       "    properties['type'] = type;\n",
       "    properties['figure_id'] = this.id;\n",
       "    this.ws.send(JSON.stringify(properties));\n",
       "};\n",
       "\n",
       "mpl.figure.prototype.send_draw_message = function () {\n",
       "    if (!this.waiting) {\n",
       "        this.waiting = true;\n",
       "        this.ws.send(JSON.stringify({ type: 'draw', figure_id: this.id }));\n",
       "    }\n",
       "};\n",
       "\n",
       "mpl.figure.prototype.handle_save = function (fig, _msg) {\n",
       "    var format_dropdown = fig.format_dropdown;\n",
       "    var format = format_dropdown.options[format_dropdown.selectedIndex].value;\n",
       "    fig.ondownload(fig, format);\n",
       "};\n",
       "\n",
       "mpl.figure.prototype.handle_resize = function (fig, msg) {\n",
       "    var size = msg['size'];\n",
       "    if (size[0] !== fig.canvas.width || size[1] !== fig.canvas.height) {\n",
       "        fig._resize_canvas(size[0], size[1], msg['forward']);\n",
       "        fig.send_message('refresh', {});\n",
       "    }\n",
       "};\n",
       "\n",
       "mpl.figure.prototype.handle_rubberband = function (fig, msg) {\n",
       "    var x0 = msg['x0'] / fig.ratio;\n",
       "    var y0 = (fig.canvas.height - msg['y0']) / fig.ratio;\n",
       "    var x1 = msg['x1'] / fig.ratio;\n",
       "    var y1 = (fig.canvas.height - msg['y1']) / fig.ratio;\n",
       "    x0 = Math.floor(x0) + 0.5;\n",
       "    y0 = Math.floor(y0) + 0.5;\n",
       "    x1 = Math.floor(x1) + 0.5;\n",
       "    y1 = Math.floor(y1) + 0.5;\n",
       "    var min_x = Math.min(x0, x1);\n",
       "    var min_y = Math.min(y0, y1);\n",
       "    var width = Math.abs(x1 - x0);\n",
       "    var height = Math.abs(y1 - y0);\n",
       "\n",
       "    fig.rubberband_context.clearRect(\n",
       "        0,\n",
       "        0,\n",
       "        fig.canvas.width / fig.ratio,\n",
       "        fig.canvas.height / fig.ratio\n",
       "    );\n",
       "\n",
       "    fig.rubberband_context.strokeRect(min_x, min_y, width, height);\n",
       "};\n",
       "\n",
       "mpl.figure.prototype.handle_figure_label = function (fig, msg) {\n",
       "    // Updates the figure title.\n",
       "    fig.header.textContent = msg['label'];\n",
       "};\n",
       "\n",
       "mpl.figure.prototype.handle_cursor = function (fig, msg) {\n",
       "    fig.rubberband_canvas.style.cursor = msg['cursor'];\n",
       "};\n",
       "\n",
       "mpl.figure.prototype.handle_message = function (fig, msg) {\n",
       "    fig.message.textContent = msg['message'];\n",
       "};\n",
       "\n",
       "mpl.figure.prototype.handle_draw = function (fig, _msg) {\n",
       "    // Request the server to send over a new figure.\n",
       "    fig.send_draw_message();\n",
       "};\n",
       "\n",
       "mpl.figure.prototype.handle_image_mode = function (fig, msg) {\n",
       "    fig.image_mode = msg['mode'];\n",
       "};\n",
       "\n",
       "mpl.figure.prototype.handle_history_buttons = function (fig, msg) {\n",
       "    for (var key in msg) {\n",
       "        if (!(key in fig.buttons)) {\n",
       "            continue;\n",
       "        }\n",
       "        fig.buttons[key].disabled = !msg[key];\n",
       "        fig.buttons[key].setAttribute('aria-disabled', !msg[key]);\n",
       "    }\n",
       "};\n",
       "\n",
       "mpl.figure.prototype.handle_navigate_mode = function (fig, msg) {\n",
       "    if (msg['mode'] === 'PAN') {\n",
       "        fig.buttons['Pan'].classList.add('active');\n",
       "        fig.buttons['Zoom'].classList.remove('active');\n",
       "    } else if (msg['mode'] === 'ZOOM') {\n",
       "        fig.buttons['Pan'].classList.remove('active');\n",
       "        fig.buttons['Zoom'].classList.add('active');\n",
       "    } else {\n",
       "        fig.buttons['Pan'].classList.remove('active');\n",
       "        fig.buttons['Zoom'].classList.remove('active');\n",
       "    }\n",
       "};\n",
       "\n",
       "mpl.figure.prototype.updated_canvas_event = function () {\n",
       "    // Called whenever the canvas gets updated.\n",
       "    this.send_message('ack', {});\n",
       "};\n",
       "\n",
       "// A function to construct a web socket function for onmessage handling.\n",
       "// Called in the figure constructor.\n",
       "mpl.figure.prototype._make_on_message_function = function (fig) {\n",
       "    return function socket_on_message(evt) {\n",
       "        if (evt.data instanceof Blob) {\n",
       "            var img = evt.data;\n",
       "            if (img.type !== 'image/png') {\n",
       "                /* FIXME: We get \"Resource interpreted as Image but\n",
       "                 * transferred with MIME type text/plain:\" errors on\n",
       "                 * Chrome.  But how to set the MIME type?  It doesn't seem\n",
       "                 * to be part of the websocket stream */\n",
       "                img.type = 'image/png';\n",
       "            }\n",
       "\n",
       "            /* Free the memory for the previous frames */\n",
       "            if (fig.imageObj.src) {\n",
       "                (window.URL || window.webkitURL).revokeObjectURL(\n",
       "                    fig.imageObj.src\n",
       "                );\n",
       "            }\n",
       "\n",
       "            fig.imageObj.src = (window.URL || window.webkitURL).createObjectURL(\n",
       "                img\n",
       "            );\n",
       "            fig.updated_canvas_event();\n",
       "            fig.waiting = false;\n",
       "            return;\n",
       "        } else if (\n",
       "            typeof evt.data === 'string' &&\n",
       "            evt.data.slice(0, 21) === 'data:image/png;base64'\n",
       "        ) {\n",
       "            fig.imageObj.src = evt.data;\n",
       "            fig.updated_canvas_event();\n",
       "            fig.waiting = false;\n",
       "            return;\n",
       "        }\n",
       "\n",
       "        var msg = JSON.parse(evt.data);\n",
       "        var msg_type = msg['type'];\n",
       "\n",
       "        // Call the  \"handle_{type}\" callback, which takes\n",
       "        // the figure and JSON message as its only arguments.\n",
       "        try {\n",
       "            var callback = fig['handle_' + msg_type];\n",
       "        } catch (e) {\n",
       "            console.log(\n",
       "                \"No handler for the '\" + msg_type + \"' message type: \",\n",
       "                msg\n",
       "            );\n",
       "            return;\n",
       "        }\n",
       "\n",
       "        if (callback) {\n",
       "            try {\n",
       "                // console.log(\"Handling '\" + msg_type + \"' message: \", msg);\n",
       "                callback(fig, msg);\n",
       "            } catch (e) {\n",
       "                console.log(\n",
       "                    \"Exception inside the 'handler_\" + msg_type + \"' callback:\",\n",
       "                    e,\n",
       "                    e.stack,\n",
       "                    msg\n",
       "                );\n",
       "            }\n",
       "        }\n",
       "    };\n",
       "};\n",
       "\n",
       "// from https://stackoverflow.com/questions/1114465/getting-mouse-location-in-canvas\n",
       "mpl.findpos = function (e) {\n",
       "    //this section is from http://www.quirksmode.org/js/events_properties.html\n",
       "    var targ;\n",
       "    if (!e) {\n",
       "        e = window.event;\n",
       "    }\n",
       "    if (e.target) {\n",
       "        targ = e.target;\n",
       "    } else if (e.srcElement) {\n",
       "        targ = e.srcElement;\n",
       "    }\n",
       "    if (targ.nodeType === 3) {\n",
       "        // defeat Safari bug\n",
       "        targ = targ.parentNode;\n",
       "    }\n",
       "\n",
       "    // pageX,Y are the mouse positions relative to the document\n",
       "    var boundingRect = targ.getBoundingClientRect();\n",
       "    var x = e.pageX - (boundingRect.left + document.body.scrollLeft);\n",
       "    var y = e.pageY - (boundingRect.top + document.body.scrollTop);\n",
       "\n",
       "    return { x: x, y: y };\n",
       "};\n",
       "\n",
       "/*\n",
       " * return a copy of an object with only non-object keys\n",
       " * we need this to avoid circular references\n",
       " * https://stackoverflow.com/a/24161582/3208463\n",
       " */\n",
       "function simpleKeys(original) {\n",
       "    return Object.keys(original).reduce(function (obj, key) {\n",
       "        if (typeof original[key] !== 'object') {\n",
       "            obj[key] = original[key];\n",
       "        }\n",
       "        return obj;\n",
       "    }, {});\n",
       "}\n",
       "\n",
       "mpl.figure.prototype.mouse_event = function (event, name) {\n",
       "    var canvas_pos = mpl.findpos(event);\n",
       "\n",
       "    if (name === 'button_press') {\n",
       "        this.canvas.focus();\n",
       "        this.canvas_div.focus();\n",
       "    }\n",
       "\n",
       "    var x = canvas_pos.x * this.ratio;\n",
       "    var y = canvas_pos.y * this.ratio;\n",
       "\n",
       "    this.send_message(name, {\n",
       "        x: x,\n",
       "        y: y,\n",
       "        button: event.button,\n",
       "        step: event.step,\n",
       "        guiEvent: simpleKeys(event),\n",
       "    });\n",
       "\n",
       "    /* This prevents the web browser from automatically changing to\n",
       "     * the text insertion cursor when the button is pressed.  We want\n",
       "     * to control all of the cursor setting manually through the\n",
       "     * 'cursor' event from matplotlib */\n",
       "    event.preventDefault();\n",
       "    return false;\n",
       "};\n",
       "\n",
       "mpl.figure.prototype._key_event_extra = function (_event, _name) {\n",
       "    // Handle any extra behaviour associated with a key event\n",
       "};\n",
       "\n",
       "mpl.figure.prototype.key_event = function (event, name) {\n",
       "    // Prevent repeat events\n",
       "    if (name === 'key_press') {\n",
       "        if (event.key === this._key) {\n",
       "            return;\n",
       "        } else {\n",
       "            this._key = event.key;\n",
       "        }\n",
       "    }\n",
       "    if (name === 'key_release') {\n",
       "        this._key = null;\n",
       "    }\n",
       "\n",
       "    var value = '';\n",
       "    if (event.ctrlKey && event.key !== 'Control') {\n",
       "        value += 'ctrl+';\n",
       "    }\n",
       "    else if (event.altKey && event.key !== 'Alt') {\n",
       "        value += 'alt+';\n",
       "    }\n",
       "    else if (event.shiftKey && event.key !== 'Shift') {\n",
       "        value += 'shift+';\n",
       "    }\n",
       "\n",
       "    value += 'k' + event.key;\n",
       "\n",
       "    this._key_event_extra(event, name);\n",
       "\n",
       "    this.send_message(name, { key: value, guiEvent: simpleKeys(event) });\n",
       "    return false;\n",
       "};\n",
       "\n",
       "mpl.figure.prototype.toolbar_button_onclick = function (name) {\n",
       "    if (name === 'download') {\n",
       "        this.handle_save(this, null);\n",
       "    } else {\n",
       "        this.send_message('toolbar_button', { name: name });\n",
       "    }\n",
       "};\n",
       "\n",
       "mpl.figure.prototype.toolbar_button_onmouseover = function (tooltip) {\n",
       "    this.message.textContent = tooltip;\n",
       "};\n",
       "\n",
       "///////////////// REMAINING CONTENT GENERATED BY embed_js.py /////////////////\n",
       "// prettier-ignore\n",
       "var _JSXTOOLS_RESIZE_OBSERVER=function(A){var t,i=new WeakMap,n=new WeakMap,a=new WeakMap,r=new WeakMap,o=new Set;function s(e){if(!(this instanceof s))throw new TypeError(\"Constructor requires 'new' operator\");i.set(this,e)}function h(){throw new TypeError(\"Function is not a constructor\")}function c(e,t,i,n){e=0 in arguments?Number(arguments[0]):0,t=1 in arguments?Number(arguments[1]):0,i=2 in arguments?Number(arguments[2]):0,n=3 in arguments?Number(arguments[3]):0,this.right=(this.x=this.left=e)+(this.width=i),this.bottom=(this.y=this.top=t)+(this.height=n),Object.freeze(this)}function d(){t=requestAnimationFrame(d);var s=new WeakMap,p=new Set;o.forEach((function(t){r.get(t).forEach((function(i){var r=t instanceof window.SVGElement,o=a.get(t),d=r?0:parseFloat(o.paddingTop),f=r?0:parseFloat(o.paddingRight),l=r?0:parseFloat(o.paddingBottom),u=r?0:parseFloat(o.paddingLeft),g=r?0:parseFloat(o.borderTopWidth),m=r?0:parseFloat(o.borderRightWidth),w=r?0:parseFloat(o.borderBottomWidth),b=u+f,F=d+l,v=(r?0:parseFloat(o.borderLeftWidth))+m,W=g+w,y=r?0:t.offsetHeight-W-t.clientHeight,E=r?0:t.offsetWidth-v-t.clientWidth,R=b+v,z=F+W,M=r?t.width:parseFloat(o.width)-R-E,O=r?t.height:parseFloat(o.height)-z-y;if(n.has(t)){var k=n.get(t);if(k[0]===M&&k[1]===O)return}n.set(t,[M,O]);var S=Object.create(h.prototype);S.target=t,S.contentRect=new c(u,d,M,O),s.has(i)||(s.set(i,[]),p.add(i)),s.get(i).push(S)}))})),p.forEach((function(e){i.get(e).call(e,s.get(e),e)}))}return s.prototype.observe=function(i){if(i instanceof window.Element){r.has(i)||(r.set(i,new Set),o.add(i),a.set(i,window.getComputedStyle(i)));var n=r.get(i);n.has(this)||n.add(this),cancelAnimationFrame(t),t=requestAnimationFrame(d)}},s.prototype.unobserve=function(i){if(i instanceof window.Element&&r.has(i)){var n=r.get(i);n.has(this)&&(n.delete(this),n.size||(r.delete(i),o.delete(i))),n.size||r.delete(i),o.size||cancelAnimationFrame(t)}},A.DOMRectReadOnly=c,A.ResizeObserver=s,A.ResizeObserverEntry=h,A}; // eslint-disable-line\n",
       "mpl.toolbar_items = [[\"Home\", \"Reset original view\", \"fa fa-home icon-home\", \"home\"], [\"Back\", \"Back to previous view\", \"fa fa-arrow-left icon-arrow-left\", \"back\"], [\"Forward\", \"Forward to next view\", \"fa fa-arrow-right icon-arrow-right\", \"forward\"], [\"\", \"\", \"\", \"\"], [\"Pan\", \"Left button pans, Right button zooms\\nx/y fixes axis, CTRL fixes aspect\", \"fa fa-arrows icon-move\", \"pan\"], [\"Zoom\", \"Zoom to rectangle\\nx/y fixes axis\", \"fa fa-square-o icon-check-empty\", \"zoom\"], [\"\", \"\", \"\", \"\"], [\"Download\", \"Download plot\", \"fa fa-floppy-o icon-save\", \"download\"]];\n",
       "\n",
       "mpl.extensions = [\"eps\", \"jpeg\", \"pgf\", \"pdf\", \"png\", \"ps\", \"raw\", \"svg\", \"tif\"];\n",
       "\n",
       "mpl.default_extension = \"png\";/* global mpl */\n",
       "\n",
       "var comm_websocket_adapter = function (comm) {\n",
       "    // Create a \"websocket\"-like object which calls the given IPython comm\n",
       "    // object with the appropriate methods. Currently this is a non binary\n",
       "    // socket, so there is still some room for performance tuning.\n",
       "    var ws = {};\n",
       "\n",
       "    ws.binaryType = comm.kernel.ws.binaryType;\n",
       "    ws.readyState = comm.kernel.ws.readyState;\n",
       "    function updateReadyState(_event) {\n",
       "        if (comm.kernel.ws) {\n",
       "            ws.readyState = comm.kernel.ws.readyState;\n",
       "        } else {\n",
       "            ws.readyState = 3; // Closed state.\n",
       "        }\n",
       "    }\n",
       "    comm.kernel.ws.addEventListener('open', updateReadyState);\n",
       "    comm.kernel.ws.addEventListener('close', updateReadyState);\n",
       "    comm.kernel.ws.addEventListener('error', updateReadyState);\n",
       "\n",
       "    ws.close = function () {\n",
       "        comm.close();\n",
       "    };\n",
       "    ws.send = function (m) {\n",
       "        //console.log('sending', m);\n",
       "        comm.send(m);\n",
       "    };\n",
       "    // Register the callback with on_msg.\n",
       "    comm.on_msg(function (msg) {\n",
       "        //console.log('receiving', msg['content']['data'], msg);\n",
       "        var data = msg['content']['data'];\n",
       "        if (data['blob'] !== undefined) {\n",
       "            data = {\n",
       "                data: new Blob(msg['buffers'], { type: data['blob'] }),\n",
       "            };\n",
       "        }\n",
       "        // Pass the mpl event to the overridden (by mpl) onmessage function.\n",
       "        ws.onmessage(data);\n",
       "    });\n",
       "    return ws;\n",
       "};\n",
       "\n",
       "mpl.mpl_figure_comm = function (comm, msg) {\n",
       "    // This is the function which gets called when the mpl process\n",
       "    // starts-up an IPython Comm through the \"matplotlib\" channel.\n",
       "\n",
       "    var id = msg.content.data.id;\n",
       "    // Get hold of the div created by the display call when the Comm\n",
       "    // socket was opened in Python.\n",
       "    var element = document.getElementById(id);\n",
       "    var ws_proxy = comm_websocket_adapter(comm);\n",
       "\n",
       "    function ondownload(figure, _format) {\n",
       "        window.open(figure.canvas.toDataURL());\n",
       "    }\n",
       "\n",
       "    var fig = new mpl.figure(id, ws_proxy, ondownload, element);\n",
       "\n",
       "    // Call onopen now - mpl needs it, as it is assuming we've passed it a real\n",
       "    // web socket which is closed, not our websocket->open comm proxy.\n",
       "    ws_proxy.onopen();\n",
       "\n",
       "    fig.parent_element = element;\n",
       "    fig.cell_info = mpl.find_output_cell(\"<div id='\" + id + \"'></div>\");\n",
       "    if (!fig.cell_info) {\n",
       "        console.error('Failed to find cell for figure', id, fig);\n",
       "        return;\n",
       "    }\n",
       "    fig.cell_info[0].output_area.element.on(\n",
       "        'cleared',\n",
       "        { fig: fig },\n",
       "        fig._remove_fig_handler\n",
       "    );\n",
       "};\n",
       "\n",
       "mpl.figure.prototype.handle_close = function (fig, msg) {\n",
       "    var width = fig.canvas.width / fig.ratio;\n",
       "    fig.cell_info[0].output_area.element.off(\n",
       "        'cleared',\n",
       "        fig._remove_fig_handler\n",
       "    );\n",
       "    fig.resizeObserverInstance.unobserve(fig.canvas_div);\n",
       "\n",
       "    // Update the output cell to use the data from the current canvas.\n",
       "    fig.push_to_output();\n",
       "    var dataURL = fig.canvas.toDataURL();\n",
       "    // Re-enable the keyboard manager in IPython - without this line, in FF,\n",
       "    // the notebook keyboard shortcuts fail.\n",
       "    IPython.keyboard_manager.enable();\n",
       "    fig.parent_element.innerHTML =\n",
       "        '<img src=\"' + dataURL + '\" width=\"' + width + '\">';\n",
       "    fig.close_ws(fig, msg);\n",
       "};\n",
       "\n",
       "mpl.figure.prototype.close_ws = function (fig, msg) {\n",
       "    fig.send_message('closing', msg);\n",
       "    // fig.ws.close()\n",
       "};\n",
       "\n",
       "mpl.figure.prototype.push_to_output = function (_remove_interactive) {\n",
       "    // Turn the data on the canvas into data in the output cell.\n",
       "    var width = this.canvas.width / this.ratio;\n",
       "    var dataURL = this.canvas.toDataURL();\n",
       "    this.cell_info[1]['text/html'] =\n",
       "        '<img src=\"' + dataURL + '\" width=\"' + width + '\">';\n",
       "};\n",
       "\n",
       "mpl.figure.prototype.updated_canvas_event = function () {\n",
       "    // Tell IPython that the notebook contents must change.\n",
       "    IPython.notebook.set_dirty(true);\n",
       "    this.send_message('ack', {});\n",
       "    var fig = this;\n",
       "    // Wait a second, then push the new image to the DOM so\n",
       "    // that it is saved nicely (might be nice to debounce this).\n",
       "    setTimeout(function () {\n",
       "        fig.push_to_output();\n",
       "    }, 1000);\n",
       "};\n",
       "\n",
       "mpl.figure.prototype._init_toolbar = function () {\n",
       "    var fig = this;\n",
       "\n",
       "    var toolbar = document.createElement('div');\n",
       "    toolbar.classList = 'btn-toolbar';\n",
       "    this.root.appendChild(toolbar);\n",
       "\n",
       "    function on_click_closure(name) {\n",
       "        return function (_event) {\n",
       "            return fig.toolbar_button_onclick(name);\n",
       "        };\n",
       "    }\n",
       "\n",
       "    function on_mouseover_closure(tooltip) {\n",
       "        return function (event) {\n",
       "            if (!event.currentTarget.disabled) {\n",
       "                return fig.toolbar_button_onmouseover(tooltip);\n",
       "            }\n",
       "        };\n",
       "    }\n",
       "\n",
       "    fig.buttons = {};\n",
       "    var buttonGroup = document.createElement('div');\n",
       "    buttonGroup.classList = 'btn-group';\n",
       "    var button;\n",
       "    for (var toolbar_ind in mpl.toolbar_items) {\n",
       "        var name = mpl.toolbar_items[toolbar_ind][0];\n",
       "        var tooltip = mpl.toolbar_items[toolbar_ind][1];\n",
       "        var image = mpl.toolbar_items[toolbar_ind][2];\n",
       "        var method_name = mpl.toolbar_items[toolbar_ind][3];\n",
       "\n",
       "        if (!name) {\n",
       "            /* Instead of a spacer, we start a new button group. */\n",
       "            if (buttonGroup.hasChildNodes()) {\n",
       "                toolbar.appendChild(buttonGroup);\n",
       "            }\n",
       "            buttonGroup = document.createElement('div');\n",
       "            buttonGroup.classList = 'btn-group';\n",
       "            continue;\n",
       "        }\n",
       "\n",
       "        button = fig.buttons[name] = document.createElement('button');\n",
       "        button.classList = 'btn btn-default';\n",
       "        button.href = '#';\n",
       "        button.title = name;\n",
       "        button.innerHTML = '<i class=\"fa ' + image + ' fa-lg\"></i>';\n",
       "        button.addEventListener('click', on_click_closure(method_name));\n",
       "        button.addEventListener('mouseover', on_mouseover_closure(tooltip));\n",
       "        buttonGroup.appendChild(button);\n",
       "    }\n",
       "\n",
       "    if (buttonGroup.hasChildNodes()) {\n",
       "        toolbar.appendChild(buttonGroup);\n",
       "    }\n",
       "\n",
       "    // Add the status bar.\n",
       "    var status_bar = document.createElement('span');\n",
       "    status_bar.classList = 'mpl-message pull-right';\n",
       "    toolbar.appendChild(status_bar);\n",
       "    this.message = status_bar;\n",
       "\n",
       "    // Add the close button to the window.\n",
       "    var buttongrp = document.createElement('div');\n",
       "    buttongrp.classList = 'btn-group inline pull-right';\n",
       "    button = document.createElement('button');\n",
       "    button.classList = 'btn btn-mini btn-primary';\n",
       "    button.href = '#';\n",
       "    button.title = 'Stop Interaction';\n",
       "    button.innerHTML = '<i class=\"fa fa-power-off icon-remove icon-large\"></i>';\n",
       "    button.addEventListener('click', function (_evt) {\n",
       "        fig.handle_close(fig, {});\n",
       "    });\n",
       "    button.addEventListener(\n",
       "        'mouseover',\n",
       "        on_mouseover_closure('Stop Interaction')\n",
       "    );\n",
       "    buttongrp.appendChild(button);\n",
       "    var titlebar = this.root.querySelector('.ui-dialog-titlebar');\n",
       "    titlebar.insertBefore(buttongrp, titlebar.firstChild);\n",
       "};\n",
       "\n",
       "mpl.figure.prototype._remove_fig_handler = function (event) {\n",
       "    var fig = event.data.fig;\n",
       "    if (event.target !== this) {\n",
       "        // Ignore bubbled events from children.\n",
       "        return;\n",
       "    }\n",
       "    fig.close_ws(fig, {});\n",
       "};\n",
       "\n",
       "mpl.figure.prototype._root_extra_style = function (el) {\n",
       "    el.style.boxSizing = 'content-box'; // override notebook setting of border-box.\n",
       "};\n",
       "\n",
       "mpl.figure.prototype._canvas_extra_style = function (el) {\n",
       "    // this is important to make the div 'focusable\n",
       "    el.setAttribute('tabindex', 0);\n",
       "    // reach out to IPython and tell the keyboard manager to turn it's self\n",
       "    // off when our div gets focus\n",
       "\n",
       "    // location in version 3\n",
       "    if (IPython.notebook.keyboard_manager) {\n",
       "        IPython.notebook.keyboard_manager.register_events(el);\n",
       "    } else {\n",
       "        // location in version 2\n",
       "        IPython.keyboard_manager.register_events(el);\n",
       "    }\n",
       "};\n",
       "\n",
       "mpl.figure.prototype._key_event_extra = function (event, _name) {\n",
       "    // Check for shift+enter\n",
       "    if (event.shiftKey && event.which === 13) {\n",
       "        this.canvas_div.blur();\n",
       "        // select the cell after this one\n",
       "        var index = IPython.notebook.find_cell_index(this.cell_info[0]);\n",
       "        IPython.notebook.select(index + 1);\n",
       "    }\n",
       "};\n",
       "\n",
       "mpl.figure.prototype.handle_save = function (fig, _msg) {\n",
       "    fig.ondownload(fig, null);\n",
       "};\n",
       "\n",
       "mpl.find_output_cell = function (html_output) {\n",
       "    // Return the cell and output element which can be found *uniquely* in the notebook.\n",
       "    // Note - this is a bit hacky, but it is done because the \"notebook_saving.Notebook\"\n",
       "    // IPython event is triggered only after the cells have been serialised, which for\n",
       "    // our purposes (turning an active figure into a static one), is too late.\n",
       "    var cells = IPython.notebook.get_cells();\n",
       "    var ncells = cells.length;\n",
       "    for (var i = 0; i < ncells; i++) {\n",
       "        var cell = cells[i];\n",
       "        if (cell.cell_type === 'code') {\n",
       "            for (var j = 0; j < cell.output_area.outputs.length; j++) {\n",
       "                var data = cell.output_area.outputs[j];\n",
       "                if (data.data) {\n",
       "                    // IPython >= 3 moved mimebundle to data attribute of output\n",
       "                    data = data.data;\n",
       "                }\n",
       "                if (data['text/html'] === html_output) {\n",
       "                    return [cell, data, j];\n",
       "                }\n",
       "            }\n",
       "        }\n",
       "    }\n",
       "};\n",
       "\n",
       "// Register the function which deals with the matplotlib target/channel.\n",
       "// The kernel may be null if the page has been refreshed.\n",
       "if (IPython.notebook.kernel !== null) {\n",
       "    IPython.notebook.kernel.comm_manager.register_target(\n",
       "        'matplotlib',\n",
       "        mpl.mpl_figure_comm\n",
       "    );\n",
       "}\n"
      ],
      "text/plain": [
       "<IPython.core.display.Javascript object>"
      ]
     },
     "metadata": {},
     "output_type": "display_data"
    },
    {
     "data": {
      "text/html": [
       "<img src=\"data:image/png;base64,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\" width=\"431.8518442250738\">"
      ],
      "text/plain": [
       "<IPython.core.display.HTML object>"
      ]
     },
     "metadata": {},
     "output_type": "display_data"
    }
   ],
   "source": [
    "import matplotlib\n",
    "%matplotlib notebook\n",
    "fig = plt.figure()\n",
    "ax = fig.add_subplot(projection='3d')\n",
    "\n",
    "ax.scatter(random[::3], random[1::3], random[2::3], s=1)\n",
    "plt.show()"
   ]
  },
  {
   "cell_type": "markdown",
   "metadata": {
    "id": "hhKeCoMqB7-K"
   },
   "source": [
    "### Задача 3*\n",
    "\n",
    "Привести статистический тест, который покажет, что с rng_bad есть проблемы, а с rng - нет."
   ]
  },
  {
   "cell_type": "markdown",
   "metadata": {
    "id": "vH11PZr2diZG"
   },
   "source": [
    "Больше тестов на случайность - [Diehard tests](https://en.wikipedia.org/wiki/Diehard_tests)."
   ]
  },
  {
   "cell_type": "markdown",
   "metadata": {
    "id": "E-_a6vHFhzGq"
   },
   "source": [
    "Больше методов генерации равномерной величины [здесь](https://en.wikipedia.org/wiki/List_of_random_number_generators)."
   ]
  },
  {
   "cell_type": "markdown",
   "metadata": {
    "id": "FfK7kS345riV"
   },
   "source": [
    "Сюжет про динамические системы и переход к хаосу https://www.youtube.com/watch?v=ovJcsL7vyrk&feature=youtu.be"
   ]
  },
  {
   "cell_type": "markdown",
   "metadata": {
    "id": "cuGe1hKIdiZH"
   },
   "source": [
    "## Генерация выборки из заданного распределения"
   ]
  },
  {
   "cell_type": "markdown",
   "metadata": {
    "id": "P_aljqUUdiZH"
   },
   "source": [
    "Допустим, у нас есть генератор случайных числе из отрезка [0, 1] (используйте для этого функцию `np.random.rand()`). Как получить выборку из другого распределения $F$?\n",
    "\n"
   ]
  },
  {
   "cell_type": "markdown",
   "metadata": {
    "id": "nicNq6-yrD7P"
   },
   "source": [
    "### Задача 4\n",
    "Смоделировать выборку объема 1000 из дискретного распределения на множестве цифр 0, 1, 2, ..., 9 с весами 0.12, 0.3, 0.167, 0.24, 0.31, 0.54, 0.111, 0.02, 0.001, 0.2. По выборке построить гистограмму. Оптимизируйте алгоритм, упорядочив веса."
   ]
  },
  {
   "cell_type": "code",
   "execution_count": 272,
   "metadata": {
    "id": "2djF1xMoq_1f"
   },
   "outputs": [
    {
     "data": {
      "text/plain": [
       "[5, 9, 7, 5, 5, 4, 4, 4, 5, 1, 9, 4, 4, 2, 5, 5, 3, 5, 3, 4]"
      ]
     },
     "execution_count": 272,
     "metadata": {},
     "output_type": "execute_result"
    }
   ],
   "source": [
    "# Solution here\n",
    "p = np.array([0.12, 0.3, 0.167, 0.24, 0.31, 0.54, 0.111, 0.02, 0.001, 0.2])\n",
    "p /= sum(p)\n",
    "p_enum = list(enumerate(p))\n",
    "p_enum.sort(key=lambda x:x[1])\n",
    "f = [sum([p_enum[j][1] for j in range(i)]) for i in range(len(p))]\n",
    "f.append(1)\n",
    "def solve(f=f):\n",
    "    r = np.random.rand()\n",
    "    for i in range(1, 11):\n",
    "        if r < f[i] and r >= f[i - 1]:\n",
    "            return p_enum[i-1][0]\n",
    "[solve() for i in range(20)]"
   ]
  },
  {
   "cell_type": "markdown",
   "metadata": {
    "id": "F-VMprlQdiZJ"
   },
   "source": [
    "### Inverse transform method"
   ]
  },
  {
   "cell_type": "markdown",
   "metadata": {
    "id": "DXgRVEkidiZJ"
   },
   "source": [
    "В следующем предложении заключается идея метода *inverse transform*:\n",
    "\n",
    "Если $\\xi$ имеет равномерное распределение в $[0,1]$, тогда $F^{-1}(\\xi)$ распределена по закону $F$. (Для каких $F$ это верно?)"
   ]
  },
  {
   "cell_type": "markdown",
   "metadata": {
    "id": "LlRNa517diZK"
   },
   "source": [
    "### Задача 5\n",
    "Смоделируйте выборку размера 1000 из распределения $Exp(\\lambda)$ с помощью метода Inverse transform. Постройте выборочную гистограмму и точный график плотности распределения."
   ]
  },
  {
   "cell_type": "code",
   "execution_count": 244,
   "metadata": {
    "id": "vD1_buYgdiZK"
   },
   "outputs": [
    {
     "data": {
      "image/png": "[encoded data removed]",
      "text/plain": [
       "<Figure size 432x288 with 1 Axes>"
      ]
     },
     "metadata": {
      "needs_background": "light"
     },
     "output_type": "display_data"
    }
   ],
   "source": [
    "# Solution here\n",
    "a = 2\n",
    "n = 1000\n",
    "\n",
    "def obs(a, size):\n",
    "    ans = []\n",
    "    for i in range(size):\n",
    "        r = np.random.rand()\n",
    "        f = np.log(r) / a\n",
    "        ans.append(f)\n",
    "    res = -np.array(ans)\n",
    "    return res\n",
    "\n",
    "def exp(a):\n",
    "    x = np.linspace(0, 3, 100)\n",
    "    return a * np.exp(-a * x)\n",
    "\n",
    "plt.hist(obs(a, n), range=(0, 3), bins=20, density=True)\n",
    "plt.plot(np.linspace(0, 3, 100), exp(a))\n",
    "plt.show()"
   ]
  },
  {
   "cell_type": "markdown",
   "metadata": {
    "id": "UEtDHxDUdiZM"
   },
   "source": [
    "### Rejection sampling (Accept-reject method)\n",
    "\n",
    "Идея метода: сэмплить из распределения, из которого умеем, а затем отбирать точки, которые следуют нужному распределению. Более точно: пусть умеем моделировать выборку из распределения с плотностью $p$, а хотим получить выборку из распределения с плотностью $\\pi$. Возьмем случайный $x$ из распределения $p$. Затем возьмем $y$, равномерно распределенный на интервале $[0, p(x)]$. Если точка $(x, y)$ попала под график $\\pi$, то примем $x$ за элемент выборки из $\\pi$. Если нет - повторяем процедуру для нового $x$. Картинка иллюстрирует идею метода (плотности нормируются так, чтобы одна лежала целиком под другой):\n",
    "<img src=https://colcarroll.github.io/hamiltonian_monte_carlo_talk/images/bayes_talk.015.png style=\"width: 50%;\"/>\n"
   ]
  },
  {
   "cell_type": "markdown",
   "metadata": {
    "id": "Tgzc6QjxdiZN"
   },
   "source": [
    "### Задача 6\n",
    "Обоснуйте (устно), что метод accept-reject действительно производит выборку из нужного распределения. Смоделируйте 1000 точек из распределения с плотностью $e^xcos^2x$ на отрезке $[-\\pi/2, \\pi/2]$. По выборке постройте график выборочной гистограммы и сравните его с графиком точной функции плотности."
   ]
  },
  {
   "cell_type": "code",
   "execution_count": 231,
   "metadata": {
    "id": "06HcUVFBdiZN",
    "outputId": "05beb147-ff36-4ab9-f4ac-ea6686cb7cb1"
   },
   "outputs": [
    {
     "data": {
      "image/png": "[encoded data removed]",
      "text/plain": [
       "<Figure size 432x288 with 1 Axes>"
      ]
     },
     "metadata": {},
     "output_type": "display_data"
    }
   ],
   "source": [
    "%matplotlib inline\n",
    "fig = plt.figure()\n",
    "fig.patch.set_facecolor('xkcd:white')\n",
    "\n",
    "x = np.linspace(-np.pi/2, np.pi/2, 100)\n",
    "density = np.exp(x)*np.cos(x)**2 # not normalized density!\n",
    "plt.fill_between(x, 0, density)\n",
    "plt.ylabel('PDF (not normalized)')\n",
    "plt.xlabel('x')\n",
    "plt.show()"
   ]
  },
  {
   "cell_type": "code",
   "execution_count": 215,
   "metadata": {},
   "outputs": [
    {
     "data": {
      "image/png": "[encoded data removed]",
      "text/plain": [
       "<Figure size 432x288 with 1 Axes>"
      ]
     },
     "metadata": {
      "needs_background": "light"
     },
     "output_type": "display_data"
    }
   ],
   "source": [
    "def f_dens(x, x0=0.5, gamma=1, C=4.2):\n",
    "    return C/np.pi * (gamma / ((x - x0)**2 + gamma**2))\n",
    "density = np.exp(x)*np.cos(x)**2 \n",
    "y = f_dens(x)\n",
    "plt.xlim(-np.pi/2, np.pi/2)\n",
    "plt.fill_between(x, 0, y)\n",
    "plt.fill_between(x, 0, density)\n",
    "plt.show()"
   ]
  },
  {
   "cell_type": "code",
   "execution_count": 225,
   "metadata": {},
   "outputs": [],
   "source": [
    "def AR(target, base, loc, scale, C, size=1000):\n",
    "    ans = []\n",
    "    while len(ans) != size:\n",
    "        x = np.pi\n",
    "        while x > np.pi/2 or x < -np.pi/2:\n",
    "            x = stats.cauchy.rvs(loc, scale)\n",
    "        u = np.random.uniform(0, 1)\n",
    "        if u <= target(x) / (C*base(x)):\n",
    "            ans.append(x)\n",
    "    return ans\n",
    "loc, scale, C = 0.5, 1, 4.2\n",
    "target = lambda x: np.exp(x)*np.cos(x)**2\n",
    "base = lambda x: 1/np.pi * (np.pi * scale / ((x - loc)**2 + scale**2))\n",
    "ans = AR(target, base, loc, scale, C)"
   ]
  },
  {
   "cell_type": "code",
   "execution_count": 238,
   "metadata": {},
   "outputs": [
    {
     "data": {
      "image/png": "[encoded data removed]",
      "text/plain": [
       "<Figure size 432x288 with 1 Axes>"
      ]
     },
     "metadata": {
      "needs_background": "light"
     },
     "output_type": "display_data"
    }
   ],
   "source": [
    "plt.hist(ans, bins=20, range=(-np.pi/2, np.pi/2), density=True)\n",
    "plt.plot(x, density / 1.841039121845835898770432018747541742542517213213106132778271842474852811042440)\n",
    "plt.show()"
   ]
  },
  {
   "cell_type": "markdown",
   "metadata": {
    "id": "kq8tMmPYdiZS"
   },
   "source": [
    "##  Coordinate transformation method\n",
    "\n",
    "Метод аccept-reject в ряде случаев может оказываться неэффективным и требовать слишком много пробных точек. Альтернатива -  попробовать найти преобразование координат, которое переводит простую область (из которой легко сэмплить, например, едининчный квадрат) в требуемую, но при этом сохраняет соотношение площадей (зачем?)."
   ]
  },
  {
   "cell_type": "markdown",
   "metadata": {
    "id": "xGIRsM7KdiZS"
   },
   "source": [
    "### Задача 7\n",
    "Смоделировать и изобразить выборку из 500 точек равномерно распределенных внутри данного треугольника без использования метода отбора."
   ]
  },
  {
   "cell_type": "code",
   "execution_count": null,
   "metadata": {
    "id": "V-aQwOVvdiZT",
    "outputId": "d6e9958f-57ab-4224-9974-13bc6b7bc351"
   },
   "outputs": [
    {
     "data": {
      "image/png": "[encoded data removed]",
      "text/plain": [
       "<Figure size 432x288 with 1 Axes>"
      ]
     },
     "metadata": {},
     "output_type": "display_data"
    }
   ],
   "source": [
    "%matplotlib inline\n",
    "from matplotlib.patches import Polygon\n",
    "from matplotlib.collections import PatchCollection\n",
    "\n",
    "fig = plt.figure()\n",
    "fig.patch.set_facecolor('xkcd:white')\n",
    "\n",
    "polygon = Polygon(np.array([[1, 2], [2, 6], [8, 1]]), True)\n",
    "plt.gca().add_collection(PatchCollection([polygon]))\n",
    "plt.axis('equal')\n",
    "plt.show()"
   ]
  },
  {
   "cell_type": "code",
   "execution_count": 93,
   "metadata": {
    "id": "_x5KNetcdiZU"
   },
   "outputs": [
    {
     "data": {
      "image/png": "[encoded data removed]",
      "text/plain": [
       "<Figure size 576x576 with 1 Axes>"
      ]
     },
     "metadata": {
      "needs_background": "light"
     },
     "output_type": "display_data"
    }
   ],
   "source": [
    "# Solution here\n",
    "a = np.array([1, 2])\n",
    "b = np.array([2, 6])\n",
    "c = np.array([8, 1])\n",
    "def gen(a=a, b=b, c=c, n=500):\n",
    "    r1 = np.sqrt(np.random.rand(n))\n",
    "    r2 = np.random.rand(n)\n",
    "    points = (1 - r1)[:, np.newaxis] * a + (r1 * (1 - r2))[:, np.newaxis] * b + (r1 * r2)[:, np.newaxis] * c\n",
    "    return points\n",
    "points = gen()\n",
    "plt.figure(figsize=(8, 8))\n",
    "plt.plot([a[0], b[0], c[0], a[0]], [a[1], b[1], c[1], a[1]], 'k-', lw=1)\n",
    "plt.scatter(points[:, 0], points[:, 1], s=10, color=\"blue\", alpha=0.5)\n",
    "plt.show()"
   ]
  },
  {
   "cell_type": "markdown",
   "metadata": {
    "id": "p69CWYlBdiZW"
   },
   "source": [
    "### Задача 8\n",
    "Смоделировать без использования метода отбора выборку из 500 точек равномерно распределенных внутри единичного круга. Изобразите полученные точки. Они действительно равномерно заполняют круг?"
   ]
  },
  {
   "cell_type": "code",
   "execution_count": null,
   "metadata": {
    "id": "trOeYSO9diZW",
    "outputId": "aaa9d07a-96da-4f86-cd68-06c5a5da7c2d"
   },
   "outputs": [
    {
     "data": {
      "image/png": "[encoded data removed]",
      "text/plain": [
       "<Figure size 432x288 with 1 Axes>"
      ]
     },
     "metadata": {},
     "output_type": "display_data"
    }
   ],
   "source": [
    "%matplotlib inline\n",
    "fig = plt.figure()\n",
    "fig.patch.set_facecolor('xkcd:white')\n",
    "\n",
    "t = np.linspace(0, 2 * np.pi, 100)\n",
    "plt.plot(np.sin(t), np.cos(t))\n",
    "plt.axis('equal')\n",
    "plt.show()"
   ]
  },
  {
   "cell_type": "code",
   "execution_count": 124,
   "metadata": {
    "id": "iaSUB9Ocy8hU"
   },
   "outputs": [
    {
     "data": {
      "image/png": "[encoded data removed]",
      "text/plain": [
       "<Figure size 432x432 with 1 Axes>"
      ]
     },
     "metadata": {
      "needs_background": "light"
     },
     "output_type": "display_data"
    }
   ],
   "source": [
    "# Solution here\n",
    "import numpy as np\n",
    "import matplotlib.pyplot as plt\n",
    "\n",
    "n = 500\n",
    "def gen_circle(r=1, n=500):\n",
    "    r = np.sqrt(np.random.rand(n))  \n",
    "    a = 2 * np.pi * np.random.rand(n)\n",
    "    x = r * np.cos(a)\n",
    "    y = r * np.sin(a)\n",
    "    return x, y\n",
    "x, y = gen_circle()\n",
    "\n",
    "plt.figure(figsize=(6, 6))\n",
    "plt.scatter(x, y, s=10, color=\"blue\", alpha=0.5)\n",
    "plt.gca().add_patch(plt.Circle((0, 0), 1, color='black', fill=False)) \n",
    "plt.show()"
   ]
  },
  {
   "cell_type": "markdown",
   "metadata": {
    "id": "FV7suL2pdiZa"
   },
   "source": [
    "## Random normal generator"
   ]
  },
  {
   "cell_type": "markdown",
   "metadata": {
    "id": "YalKYO-bdiZb"
   },
   "source": [
    "### Задача 9\n",
    "Докажите (устно), что приведенный ниже алгоритм (Box-Muller algorithm) формирует выборку из независимых N(0,1) случаных величин. Модифицируйте метод, чтобы исключить вызовы тригонометрических функций ```np.sin``` и ```np.cos```. С помощью модифицированного метода смоделируйте выборку объема 1000 из двумерного гауссовского распределения со средним [4, 7] и ковариационной матрицей [[20,  -4],\n",
    "       [ -4, 40]]. Постройте 2D гистограмму полученного распределения. Сравните выборочное среднее и ковариационную матрицу с точными значениями."
   ]
  },
  {
   "cell_type": "code",
   "execution_count": 126,
   "metadata": {},
   "outputs": [
    {
     "data": {
      "image/png": "[encoded data removed]",
      "text/plain": [
       "<Figure size 1080x360 with 3 Axes>"
      ]
     },
     "metadata": {},
     "output_type": "display_data"
    }
   ],
   "source": [
    "B = np.array([[20, -4], [-4, 40]])\n",
    "C = np.linalg.cholesky(B)\n",
    "a = np.array([4, 7])\n",
    "\n",
    "n = 1000\n",
    "u1, u2 = gen_circle(n=1000)\n",
    "w = u1**2 + u2**2\n",
    "x = np.sqrt(-2*np.log(w)) * u1 / np.sqrt(w)\n",
    "y = np.sqrt(-2*np.log(w)) * u2 / np.sqrt(w)\n",
    "\n",
    "z = a.reshape(-1, 1) + np.dot(C, np.array([x, y]))\n",
    "\n",
    "fig, ax = plt.subplots(1, 3, figsize=(15, 5))\n",
    "fig.patch.set_facecolor('xkcd:white')\n",
    "ax[0].hist2d(x, y, bins=30)\n",
    "ax[0].axis('equal')\n",
    "ax[1].hist(x, bins=30)\n",
    "ax[2].hist(y, bins=30)\n",
    "ax[0].set_title(\"2d histogram\")\n",
    "ax[1].set_title(\"Histogram of x\")\n",
    "ax[2].set_title(\"Histogram of y\")\n",
    "plt.show()"
   ]
  },
  {
   "cell_type": "code",
   "execution_count": null,
   "metadata": {
    "id": "L2ZJeRoJdiZc",
    "outputId": "5d57c746-0ffd-48d1-de6e-c4276349b305"
   },
   "outputs": [
    {
     "data": {
      "image/png": "[encoded data removed]",
      "text/plain": [
       "<Figure size 1080x360 with 3 Axes>"
      ]
     },
     "metadata": {},
     "output_type": "display_data"
    }
   ],
   "source": [
    "%matplotlib inline\n",
    "\n",
    "n = 1000\n",
    "u1, u2 = np.random.rand(2, n)\n",
    "r = np.sqrt(-2 * np.log(u1))\n",
    "theta = 2 * np.pi * u2\n",
    "x = r * np.cos(theta)\n",
    "y = r * np.sin(theta)\n",
    "\n",
    "fig, ax = plt.subplots(1, 3, figsize=(15, 5))\n",
    "fig.patch.set_facecolor('xkcd:white')\n",
    "ax[0].hist2d(x, y, bins=30)\n",
    "ax[0].axis('equal')\n",
    "ax[1].hist(x, bins=30)\n",
    "ax[2].hist(y, bins=30)\n",
    "ax[0].set_title(\"2d histogram\")\n",
    "ax[1].set_title(\"Histogram of x\")\n",
    "ax[2].set_title(\"Histogram of y\")\n",
    "plt.show()"
   ]
  },
  {
   "cell_type": "markdown",
   "metadata": {
    "id": "14IvUqPM35xs"
   },
   "source": [
    "### Задача 10*\n",
    "\n",
    "Реализовать метод генерации случайного разбиения n-элементного множества на подмножества. С его помощью оценить ожидаемое число подмножеств в случайном разбиении множества из 100 элементов.\n",
    "\n",
    "Подсказка 1: Ширяев, Вероятность, т1, задача 2 к параграфу 1.\n",
    "\n",
    "Подсказка 2: http://djalil.chafai.net/blog/2012/05/03/generating-uniform-random-partitions/"
   ]
  },
  {
   "cell_type": "code",
   "execution_count": null,
   "metadata": {},
   "outputs": [],
   "source": []
  }
 ],
 "metadata": {
  "colab": {
   "provenance": []
  },
  "kernelspec": {
   "display_name": "Python 3 (ipykernel)",
   "language": "python",
   "name": "python3"
  },
  "language_info": {
   "codemirror_mode": {
    "name": "ipython",
    "version": 3
   },
   "file_extension": ".py",
   "mimetype": "text/x-python",
   "name": "python",
   "nbconvert_exporter": "python",
   "pygments_lexer": "ipython3",
   "version": "3.10.4"
  }
 },
 "nbformat": 4,
 "nbformat_minor": 1
}
